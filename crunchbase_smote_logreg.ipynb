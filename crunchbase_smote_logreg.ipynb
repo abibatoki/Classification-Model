{
 "cells": [
  {
   "cell_type": "markdown",
   "id": "64a20d72-505d-4c3d-8bcc-583d23e7ada5",
   "metadata": {},
   "source": [
    "**Import the relevant libraries**"
   ]
  },
  {
   "cell_type": "code",
   "execution_count": 17,
   "id": "d4173932-a117-46cf-b25b-313716d2dfc1",
   "metadata": {},
   "outputs": [],
   "source": [
    "import numpy as np\n",
    "import pandas as pd\n",
    "import matplotlib.pyplot as plt\n",
    "import seaborn as sns\n",
    "sns.set()\n",
    "import warnings\n",
    "from imblearn.over_sampling import SMOTE\n",
    "from sklearn.model_selection import train_test_split\n",
    "from sklearn.linear_model import LogisticRegression\n",
    "from sklearn.ensemble import RandomForestClassifier\n",
    "from sklearn.metrics import classification_report, confusion_matrix\n",
    "from collections import Counter\n",
    "\n",
    "warnings.filterwarnings('ignore')"
   ]
  },
  {
   "cell_type": "markdown",
   "id": "89221af2-5afe-4fc0-8768-1a7f6a087eb1",
   "metadata": {},
   "source": [
    "**Load the data**"
   ]
  },
  {
   "cell_type": "code",
   "execution_count": 19,
   "id": "2ee12d8d-8553-44a0-884b-daf2a3d27afa",
   "metadata": {},
   "outputs": [
    {
     "data": {
      "text/html": [
       "<div>\n",
       "<style scoped>\n",
       "    .dataframe tbody tr th:only-of-type {\n",
       "        vertical-align: middle;\n",
       "    }\n",
       "\n",
       "    .dataframe tbody tr th {\n",
       "        vertical-align: top;\n",
       "    }\n",
       "\n",
       "    .dataframe thead th {\n",
       "        text-align: right;\n",
       "    }\n",
       "</style>\n",
       "<table border=\"1\" class=\"dataframe\">\n",
       "  <thead>\n",
       "    <tr style=\"text-align: right;\">\n",
       "      <th></th>\n",
       "      <th>company_id</th>\n",
       "      <th>category_code</th>\n",
       "      <th>country_code</th>\n",
       "      <th>state_code</th>\n",
       "      <th>total_rounds</th>\n",
       "      <th>average_participants</th>\n",
       "      <th>offices</th>\n",
       "      <th>ipo</th>\n",
       "      <th>is_acquired</th>\n",
       "      <th>is_closed</th>\n",
       "      <th>age_years</th>\n",
       "      <th>status</th>\n",
       "      <th>log_average_funded</th>\n",
       "    </tr>\n",
       "  </thead>\n",
       "  <tbody>\n",
       "    <tr>\n",
       "      <th>0</th>\n",
       "      <td>c:10015</td>\n",
       "      <td>health</td>\n",
       "      <td>USA</td>\n",
       "      <td>California</td>\n",
       "      <td>5</td>\n",
       "      <td>3.8</td>\n",
       "      <td>1.0</td>\n",
       "      <td>0</td>\n",
       "      <td>0</td>\n",
       "      <td>0</td>\n",
       "      <td>6.26</td>\n",
       "      <td>0</td>\n",
       "      <td>16.426597</td>\n",
       "    </tr>\n",
       "    <tr>\n",
       "      <th>1</th>\n",
       "      <td>c:100228</td>\n",
       "      <td>education</td>\n",
       "      <td>USA</td>\n",
       "      <td>other</td>\n",
       "      <td>1</td>\n",
       "      <td>0.0</td>\n",
       "      <td>3.0</td>\n",
       "      <td>0</td>\n",
       "      <td>0</td>\n",
       "      <td>0</td>\n",
       "      <td>3.25</td>\n",
       "      <td>0</td>\n",
       "      <td>11.512925</td>\n",
       "    </tr>\n",
       "    <tr>\n",
       "      <th>2</th>\n",
       "      <td>c:100607</td>\n",
       "      <td>games_video</td>\n",
       "      <td>USA</td>\n",
       "      <td>California</td>\n",
       "      <td>1</td>\n",
       "      <td>1.0</td>\n",
       "      <td>1.0</td>\n",
       "      <td>0</td>\n",
       "      <td>0</td>\n",
       "      <td>0</td>\n",
       "      <td>3.00</td>\n",
       "      <td>0</td>\n",
       "      <td>10.596635</td>\n",
       "    </tr>\n",
       "    <tr>\n",
       "      <th>3</th>\n",
       "      <td>c:10075</td>\n",
       "      <td>web</td>\n",
       "      <td>USA</td>\n",
       "      <td>California</td>\n",
       "      <td>1</td>\n",
       "      <td>0.0</td>\n",
       "      <td>1.0</td>\n",
       "      <td>0</td>\n",
       "      <td>0</td>\n",
       "      <td>0</td>\n",
       "      <td>6.15</td>\n",
       "      <td>0</td>\n",
       "      <td>12.765688</td>\n",
       "    </tr>\n",
       "    <tr>\n",
       "      <th>4</th>\n",
       "      <td>c:100756</td>\n",
       "      <td>education</td>\n",
       "      <td>other</td>\n",
       "      <td>other</td>\n",
       "      <td>1</td>\n",
       "      <td>1.0</td>\n",
       "      <td>1.0</td>\n",
       "      <td>0</td>\n",
       "      <td>0</td>\n",
       "      <td>0</td>\n",
       "      <td>5.00</td>\n",
       "      <td>0</td>\n",
       "      <td>13.234838</td>\n",
       "    </tr>\n",
       "    <tr>\n",
       "      <th>...</th>\n",
       "      <td>...</td>\n",
       "      <td>...</td>\n",
       "      <td>...</td>\n",
       "      <td>...</td>\n",
       "      <td>...</td>\n",
       "      <td>...</td>\n",
       "      <td>...</td>\n",
       "      <td>...</td>\n",
       "      <td>...</td>\n",
       "      <td>...</td>\n",
       "      <td>...</td>\n",
       "      <td>...</td>\n",
       "      <td>...</td>\n",
       "    </tr>\n",
       "    <tr>\n",
       "      <th>7505</th>\n",
       "      <td>c:99669</td>\n",
       "      <td>enterprise</td>\n",
       "      <td>USA</td>\n",
       "      <td>other</td>\n",
       "      <td>1</td>\n",
       "      <td>6.0</td>\n",
       "      <td>1.0</td>\n",
       "      <td>0</td>\n",
       "      <td>0</td>\n",
       "      <td>0</td>\n",
       "      <td>3.00</td>\n",
       "      <td>0</td>\n",
       "      <td>13.527828</td>\n",
       "    </tr>\n",
       "    <tr>\n",
       "      <th>7506</th>\n",
       "      <td>c:9975</td>\n",
       "      <td>web</td>\n",
       "      <td>other</td>\n",
       "      <td>other</td>\n",
       "      <td>1</td>\n",
       "      <td>0.0</td>\n",
       "      <td>1.0</td>\n",
       "      <td>0</td>\n",
       "      <td>0</td>\n",
       "      <td>0</td>\n",
       "      <td>6.30</td>\n",
       "      <td>0</td>\n",
       "      <td>13.590714</td>\n",
       "    </tr>\n",
       "    <tr>\n",
       "      <th>7507</th>\n",
       "      <td>c:9977</td>\n",
       "      <td>mobile</td>\n",
       "      <td>USA</td>\n",
       "      <td>California</td>\n",
       "      <td>1</td>\n",
       "      <td>0.0</td>\n",
       "      <td>1.0</td>\n",
       "      <td>0</td>\n",
       "      <td>0</td>\n",
       "      <td>1</td>\n",
       "      <td>5.62</td>\n",
       "      <td>0</td>\n",
       "      <td>11.775290</td>\n",
       "    </tr>\n",
       "    <tr>\n",
       "      <th>7508</th>\n",
       "      <td>c:9995</td>\n",
       "      <td>public_relations</td>\n",
       "      <td>USA</td>\n",
       "      <td>California</td>\n",
       "      <td>1</td>\n",
       "      <td>0.0</td>\n",
       "      <td>1.0</td>\n",
       "      <td>0</td>\n",
       "      <td>0</td>\n",
       "      <td>0</td>\n",
       "      <td>6.17</td>\n",
       "      <td>0</td>\n",
       "      <td>13.527828</td>\n",
       "    </tr>\n",
       "    <tr>\n",
       "      <th>7509</th>\n",
       "      <td>c:9998</td>\n",
       "      <td>ecommerce</td>\n",
       "      <td>USA</td>\n",
       "      <td>California</td>\n",
       "      <td>1</td>\n",
       "      <td>0.0</td>\n",
       "      <td>1.0</td>\n",
       "      <td>0</td>\n",
       "      <td>0</td>\n",
       "      <td>0</td>\n",
       "      <td>6.34</td>\n",
       "      <td>0</td>\n",
       "      <td>13.071070</td>\n",
       "    </tr>\n",
       "  </tbody>\n",
       "</table>\n",
       "<p>7510 rows × 13 columns</p>\n",
       "</div>"
      ],
      "text/plain": [
       "     company_id     category_code country_code  state_code  total_rounds  \\\n",
       "0       c:10015            health          USA  California             5   \n",
       "1      c:100228         education          USA       other             1   \n",
       "2      c:100607       games_video          USA  California             1   \n",
       "3       c:10075               web          USA  California             1   \n",
       "4      c:100756         education        other       other             1   \n",
       "...         ...               ...          ...         ...           ...   \n",
       "7505    c:99669        enterprise          USA       other             1   \n",
       "7506     c:9975               web        other       other             1   \n",
       "7507     c:9977            mobile          USA  California             1   \n",
       "7508     c:9995  public_relations          USA  California             1   \n",
       "7509     c:9998         ecommerce          USA  California             1   \n",
       "\n",
       "      average_participants  offices  ipo  is_acquired  is_closed  age_years  \\\n",
       "0                      3.8      1.0    0            0          0       6.26   \n",
       "1                      0.0      3.0    0            0          0       3.25   \n",
       "2                      1.0      1.0    0            0          0       3.00   \n",
       "3                      0.0      1.0    0            0          0       6.15   \n",
       "4                      1.0      1.0    0            0          0       5.00   \n",
       "...                    ...      ...  ...          ...        ...        ...   \n",
       "7505                   6.0      1.0    0            0          0       3.00   \n",
       "7506                   0.0      1.0    0            0          0       6.30   \n",
       "7507                   0.0      1.0    0            0          1       5.62   \n",
       "7508                   0.0      1.0    0            0          0       6.17   \n",
       "7509                   0.0      1.0    0            0          0       6.34   \n",
       "\n",
       "      status  log_average_funded  \n",
       "0          0           16.426597  \n",
       "1          0           11.512925  \n",
       "2          0           10.596635  \n",
       "3          0           12.765688  \n",
       "4          0           13.234838  \n",
       "...      ...                 ...  \n",
       "7505       0           13.527828  \n",
       "7506       0           13.590714  \n",
       "7507       0           11.775290  \n",
       "7508       0           13.527828  \n",
       "7509       0           13.071070  \n",
       "\n",
       "[7510 rows x 13 columns]"
      ]
     },
     "execution_count": 19,
     "metadata": {},
     "output_type": "execute_result"
    }
   ],
   "source": [
    "raw_data = pd.read_csv(r'C:\\Users\\user\\Downloads\\cleaned_startup_data.xls')\n",
    "raw_data"
   ]
  },
  {
   "cell_type": "code",
   "execution_count": 21,
   "id": "01ab0c4d-e5fb-4c36-9740-69d56ab13627",
   "metadata": {},
   "outputs": [],
   "source": [
    "#drop offices and is_acquired \n",
    "columns_to_drop = ['offices', 'is_acquired']"
   ]
  },
  {
   "cell_type": "code",
   "execution_count": 23,
   "id": "f1070765-4190-492f-a36a-de985ce792ab",
   "metadata": {},
   "outputs": [
    {
     "data": {
      "text/html": [
       "<div>\n",
       "<style scoped>\n",
       "    .dataframe tbody tr th:only-of-type {\n",
       "        vertical-align: middle;\n",
       "    }\n",
       "\n",
       "    .dataframe tbody tr th {\n",
       "        vertical-align: top;\n",
       "    }\n",
       "\n",
       "    .dataframe thead th {\n",
       "        text-align: right;\n",
       "    }\n",
       "</style>\n",
       "<table border=\"1\" class=\"dataframe\">\n",
       "  <thead>\n",
       "    <tr style=\"text-align: right;\">\n",
       "      <th></th>\n",
       "      <th>company_id</th>\n",
       "      <th>category_code</th>\n",
       "      <th>country_code</th>\n",
       "      <th>state_code</th>\n",
       "      <th>total_rounds</th>\n",
       "      <th>average_participants</th>\n",
       "      <th>ipo</th>\n",
       "      <th>is_closed</th>\n",
       "      <th>age_years</th>\n",
       "      <th>status</th>\n",
       "      <th>log_average_funded</th>\n",
       "    </tr>\n",
       "  </thead>\n",
       "  <tbody>\n",
       "    <tr>\n",
       "      <th>0</th>\n",
       "      <td>c:10015</td>\n",
       "      <td>health</td>\n",
       "      <td>USA</td>\n",
       "      <td>California</td>\n",
       "      <td>5</td>\n",
       "      <td>3.8</td>\n",
       "      <td>0</td>\n",
       "      <td>0</td>\n",
       "      <td>6.26</td>\n",
       "      <td>0</td>\n",
       "      <td>16.426597</td>\n",
       "    </tr>\n",
       "    <tr>\n",
       "      <th>1</th>\n",
       "      <td>c:100228</td>\n",
       "      <td>education</td>\n",
       "      <td>USA</td>\n",
       "      <td>other</td>\n",
       "      <td>1</td>\n",
       "      <td>0.0</td>\n",
       "      <td>0</td>\n",
       "      <td>0</td>\n",
       "      <td>3.25</td>\n",
       "      <td>0</td>\n",
       "      <td>11.512925</td>\n",
       "    </tr>\n",
       "    <tr>\n",
       "      <th>2</th>\n",
       "      <td>c:100607</td>\n",
       "      <td>games_video</td>\n",
       "      <td>USA</td>\n",
       "      <td>California</td>\n",
       "      <td>1</td>\n",
       "      <td>1.0</td>\n",
       "      <td>0</td>\n",
       "      <td>0</td>\n",
       "      <td>3.00</td>\n",
       "      <td>0</td>\n",
       "      <td>10.596635</td>\n",
       "    </tr>\n",
       "    <tr>\n",
       "      <th>3</th>\n",
       "      <td>c:10075</td>\n",
       "      <td>web</td>\n",
       "      <td>USA</td>\n",
       "      <td>California</td>\n",
       "      <td>1</td>\n",
       "      <td>0.0</td>\n",
       "      <td>0</td>\n",
       "      <td>0</td>\n",
       "      <td>6.15</td>\n",
       "      <td>0</td>\n",
       "      <td>12.765688</td>\n",
       "    </tr>\n",
       "    <tr>\n",
       "      <th>4</th>\n",
       "      <td>c:100756</td>\n",
       "      <td>education</td>\n",
       "      <td>other</td>\n",
       "      <td>other</td>\n",
       "      <td>1</td>\n",
       "      <td>1.0</td>\n",
       "      <td>0</td>\n",
       "      <td>0</td>\n",
       "      <td>5.00</td>\n",
       "      <td>0</td>\n",
       "      <td>13.234838</td>\n",
       "    </tr>\n",
       "    <tr>\n",
       "      <th>...</th>\n",
       "      <td>...</td>\n",
       "      <td>...</td>\n",
       "      <td>...</td>\n",
       "      <td>...</td>\n",
       "      <td>...</td>\n",
       "      <td>...</td>\n",
       "      <td>...</td>\n",
       "      <td>...</td>\n",
       "      <td>...</td>\n",
       "      <td>...</td>\n",
       "      <td>...</td>\n",
       "    </tr>\n",
       "    <tr>\n",
       "      <th>7505</th>\n",
       "      <td>c:99669</td>\n",
       "      <td>enterprise</td>\n",
       "      <td>USA</td>\n",
       "      <td>other</td>\n",
       "      <td>1</td>\n",
       "      <td>6.0</td>\n",
       "      <td>0</td>\n",
       "      <td>0</td>\n",
       "      <td>3.00</td>\n",
       "      <td>0</td>\n",
       "      <td>13.527828</td>\n",
       "    </tr>\n",
       "    <tr>\n",
       "      <th>7506</th>\n",
       "      <td>c:9975</td>\n",
       "      <td>web</td>\n",
       "      <td>other</td>\n",
       "      <td>other</td>\n",
       "      <td>1</td>\n",
       "      <td>0.0</td>\n",
       "      <td>0</td>\n",
       "      <td>0</td>\n",
       "      <td>6.30</td>\n",
       "      <td>0</td>\n",
       "      <td>13.590714</td>\n",
       "    </tr>\n",
       "    <tr>\n",
       "      <th>7507</th>\n",
       "      <td>c:9977</td>\n",
       "      <td>mobile</td>\n",
       "      <td>USA</td>\n",
       "      <td>California</td>\n",
       "      <td>1</td>\n",
       "      <td>0.0</td>\n",
       "      <td>0</td>\n",
       "      <td>1</td>\n",
       "      <td>5.62</td>\n",
       "      <td>0</td>\n",
       "      <td>11.775290</td>\n",
       "    </tr>\n",
       "    <tr>\n",
       "      <th>7508</th>\n",
       "      <td>c:9995</td>\n",
       "      <td>public_relations</td>\n",
       "      <td>USA</td>\n",
       "      <td>California</td>\n",
       "      <td>1</td>\n",
       "      <td>0.0</td>\n",
       "      <td>0</td>\n",
       "      <td>0</td>\n",
       "      <td>6.17</td>\n",
       "      <td>0</td>\n",
       "      <td>13.527828</td>\n",
       "    </tr>\n",
       "    <tr>\n",
       "      <th>7509</th>\n",
       "      <td>c:9998</td>\n",
       "      <td>ecommerce</td>\n",
       "      <td>USA</td>\n",
       "      <td>California</td>\n",
       "      <td>1</td>\n",
       "      <td>0.0</td>\n",
       "      <td>0</td>\n",
       "      <td>0</td>\n",
       "      <td>6.34</td>\n",
       "      <td>0</td>\n",
       "      <td>13.071070</td>\n",
       "    </tr>\n",
       "  </tbody>\n",
       "</table>\n",
       "<p>7510 rows × 11 columns</p>\n",
       "</div>"
      ],
      "text/plain": [
       "     company_id     category_code country_code  state_code  total_rounds  \\\n",
       "0       c:10015            health          USA  California             5   \n",
       "1      c:100228         education          USA       other             1   \n",
       "2      c:100607       games_video          USA  California             1   \n",
       "3       c:10075               web          USA  California             1   \n",
       "4      c:100756         education        other       other             1   \n",
       "...         ...               ...          ...         ...           ...   \n",
       "7505    c:99669        enterprise          USA       other             1   \n",
       "7506     c:9975               web        other       other             1   \n",
       "7507     c:9977            mobile          USA  California             1   \n",
       "7508     c:9995  public_relations          USA  California             1   \n",
       "7509     c:9998         ecommerce          USA  California             1   \n",
       "\n",
       "      average_participants  ipo  is_closed  age_years  status  \\\n",
       "0                      3.8    0          0       6.26       0   \n",
       "1                      0.0    0          0       3.25       0   \n",
       "2                      1.0    0          0       3.00       0   \n",
       "3                      0.0    0          0       6.15       0   \n",
       "4                      1.0    0          0       5.00       0   \n",
       "...                    ...  ...        ...        ...     ...   \n",
       "7505                   6.0    0          0       3.00       0   \n",
       "7506                   0.0    0          0       6.30       0   \n",
       "7507                   0.0    0          1       5.62       0   \n",
       "7508                   0.0    0          0       6.17       0   \n",
       "7509                   0.0    0          0       6.34       0   \n",
       "\n",
       "      log_average_funded  \n",
       "0              16.426597  \n",
       "1              11.512925  \n",
       "2              10.596635  \n",
       "3              12.765688  \n",
       "4              13.234838  \n",
       "...                  ...  \n",
       "7505           13.527828  \n",
       "7506           13.590714  \n",
       "7507           11.775290  \n",
       "7508           13.527828  \n",
       "7509           13.071070  \n",
       "\n",
       "[7510 rows x 11 columns]"
      ]
     },
     "execution_count": 23,
     "metadata": {},
     "output_type": "execute_result"
    }
   ],
   "source": [
    "data = raw_data.drop(columns=columns_to_drop)\n",
    "data"
   ]
  },
  {
   "cell_type": "markdown",
   "id": "9b6c55de-037b-4bcc-9259-323b92e944c0",
   "metadata": {},
   "source": [
    "**Declare the features and target**"
   ]
  },
  {
   "cell_type": "code",
   "execution_count": 25,
   "id": "4b42dca7-e8a2-45ee-abdb-9c0648ea18ac",
   "metadata": {},
   "outputs": [],
   "source": [
    "#declare the features and target\n",
    "target = data['status']\n",
    "features = data[['total_rounds', 'average_participants', 'ipo', 'is_closed', 'age_years', 'log_average_funded']]"
   ]
  },
  {
   "cell_type": "markdown",
   "id": "927b3eee-c9ee-4f6d-880f-0913f654f023",
   "metadata": {},
   "source": [
    "**Split data into test and training**"
   ]
  },
  {
   "cell_type": "code",
   "execution_count": 35,
   "id": "8643abf5-e217-4e32-99e2-11d0e5beec65",
   "metadata": {},
   "outputs": [],
   "source": [
    "x_train, x_test, y_train, y_test = train_test_split(features, target, test_size=0.2, stratify=target, random_state=42)"
   ]
  },
  {
   "cell_type": "code",
   "execution_count": 39,
   "id": "43807684-6422-4a90-9822-070c36afdee6",
   "metadata": {},
   "outputs": [
    {
     "name": "stdout",
     "output_type": "stream",
     "text": [
      "<class 'pandas.core.frame.DataFrame'>\n",
      "<class 'pandas.core.series.Series'>\n",
      "(6008, 6)\n",
      "(6008,)\n"
     ]
    }
   ],
   "source": [
    "# Check if these exist\n",
    "print(type(x_train))\n",
    "print(type(y_train))\n",
    "print(x_train.shape)\n",
    "print(y_train.shape)"
   ]
  },
  {
   "cell_type": "code",
   "execution_count": null,
   "id": "f2aa3108-53cc-4497-8de3-33ed1aaa1f31",
   "metadata": {},
   "outputs": [],
   "source": []
  },
  {
   "cell_type": "markdown",
   "id": "df87d51c-82a3-4726-b36e-f6570412ffb1",
   "metadata": {},
   "source": [
    "**Create a SMOTE object**"
   ]
  },
  {
   "cell_type": "code",
   "execution_count": 41,
   "id": "cb2b5ce5-52e7-42b2-95dd-7574270f29ce",
   "metadata": {},
   "outputs": [],
   "source": [
    "smote = SMOTE(random_state=42)"
   ]
  },
  {
   "cell_type": "code",
   "execution_count": 45,
   "id": "efc5db6e-f278-4c01-9103-2a38f80bf32b",
   "metadata": {},
   "outputs": [],
   "source": [
    "# Apply SMOTE to the training features and labels\n",
    "x_train_sm, y_train_sm = smote.fit_resample(x_train, y_train)"
   ]
  },
  {
   "cell_type": "markdown",
   "id": "1183475e-76bd-4072-bd92-14883f49a00e",
   "metadata": {},
   "source": [
    "**Check the new class balance**"
   ]
  },
  {
   "cell_type": "code",
   "execution_count": 47,
   "id": "be18d357-701a-4421-86b1-4326ace34b2b",
   "metadata": {},
   "outputs": [
    {
     "name": "stdout",
     "output_type": "stream",
     "text": [
      "Before SMOTE: Counter({0: 5485, 1: 523})\n",
      "After SMOTE: Counter({0: 5485, 1: 5485})\n"
     ]
    }
   ],
   "source": [
    "print(\"Before SMOTE:\", Counter(y_train))\n",
    "print(\"After SMOTE:\", Counter(y_train_sm))"
   ]
  },
  {
   "cell_type": "markdown",
   "id": "df1f86bd-7f31-41d3-bee3-ba2457a9b84a",
   "metadata": {},
   "source": [
    "**Create the logistic regression**"
   ]
  },
  {
   "cell_type": "code",
   "execution_count": 51,
   "id": "fa1c8134-74f1-4e10-9230-e893a0b40d75",
   "metadata": {},
   "outputs": [
    {
     "data": {
      "text/html": [
       "<style>#sk-container-id-1 {color: black;}#sk-container-id-1 pre{padding: 0;}#sk-container-id-1 div.sk-toggleable {background-color: white;}#sk-container-id-1 label.sk-toggleable__label {cursor: pointer;display: block;width: 100%;margin-bottom: 0;padding: 0.3em;box-sizing: border-box;text-align: center;}#sk-container-id-1 label.sk-toggleable__label-arrow:before {content: \"▸\";float: left;margin-right: 0.25em;color: #696969;}#sk-container-id-1 label.sk-toggleable__label-arrow:hover:before {color: black;}#sk-container-id-1 div.sk-estimator:hover label.sk-toggleable__label-arrow:before {color: black;}#sk-container-id-1 div.sk-toggleable__content {max-height: 0;max-width: 0;overflow: hidden;text-align: left;background-color: #f0f8ff;}#sk-container-id-1 div.sk-toggleable__content pre {margin: 0.2em;color: black;border-radius: 0.25em;background-color: #f0f8ff;}#sk-container-id-1 input.sk-toggleable__control:checked~div.sk-toggleable__content {max-height: 200px;max-width: 100%;overflow: auto;}#sk-container-id-1 input.sk-toggleable__control:checked~label.sk-toggleable__label-arrow:before {content: \"▾\";}#sk-container-id-1 div.sk-estimator input.sk-toggleable__control:checked~label.sk-toggleable__label {background-color: #d4ebff;}#sk-container-id-1 div.sk-label input.sk-toggleable__control:checked~label.sk-toggleable__label {background-color: #d4ebff;}#sk-container-id-1 input.sk-hidden--visually {border: 0;clip: rect(1px 1px 1px 1px);clip: rect(1px, 1px, 1px, 1px);height: 1px;margin: -1px;overflow: hidden;padding: 0;position: absolute;width: 1px;}#sk-container-id-1 div.sk-estimator {font-family: monospace;background-color: #f0f8ff;border: 1px dotted black;border-radius: 0.25em;box-sizing: border-box;margin-bottom: 0.5em;}#sk-container-id-1 div.sk-estimator:hover {background-color: #d4ebff;}#sk-container-id-1 div.sk-parallel-item::after {content: \"\";width: 100%;border-bottom: 1px solid gray;flex-grow: 1;}#sk-container-id-1 div.sk-label:hover label.sk-toggleable__label {background-color: #d4ebff;}#sk-container-id-1 div.sk-serial::before {content: \"\";position: absolute;border-left: 1px solid gray;box-sizing: border-box;top: 0;bottom: 0;left: 50%;z-index: 0;}#sk-container-id-1 div.sk-serial {display: flex;flex-direction: column;align-items: center;background-color: white;padding-right: 0.2em;padding-left: 0.2em;position: relative;}#sk-container-id-1 div.sk-item {position: relative;z-index: 1;}#sk-container-id-1 div.sk-parallel {display: flex;align-items: stretch;justify-content: center;background-color: white;position: relative;}#sk-container-id-1 div.sk-item::before, #sk-container-id-1 div.sk-parallel-item::before {content: \"\";position: absolute;border-left: 1px solid gray;box-sizing: border-box;top: 0;bottom: 0;left: 50%;z-index: -1;}#sk-container-id-1 div.sk-parallel-item {display: flex;flex-direction: column;z-index: 1;position: relative;background-color: white;}#sk-container-id-1 div.sk-parallel-item:first-child::after {align-self: flex-end;width: 50%;}#sk-container-id-1 div.sk-parallel-item:last-child::after {align-self: flex-start;width: 50%;}#sk-container-id-1 div.sk-parallel-item:only-child::after {width: 0;}#sk-container-id-1 div.sk-dashed-wrapped {border: 1px dashed gray;margin: 0 0.4em 0.5em 0.4em;box-sizing: border-box;padding-bottom: 0.4em;background-color: white;}#sk-container-id-1 div.sk-label label {font-family: monospace;font-weight: bold;display: inline-block;line-height: 1.2em;}#sk-container-id-1 div.sk-label-container {text-align: center;}#sk-container-id-1 div.sk-container {/* jupyter's `normalize.less` sets `[hidden] { display: none; }` but bootstrap.min.css set `[hidden] { display: none !important; }` so we also need the `!important` here to be able to override the default hidden behavior on the sphinx rendered scikit-learn.org. See: https://github.com/scikit-learn/scikit-learn/issues/21755 */display: inline-block !important;position: relative;}#sk-container-id-1 div.sk-text-repr-fallback {display: none;}</style><div id=\"sk-container-id-1\" class=\"sk-top-container\"><div class=\"sk-text-repr-fallback\"><pre>LogisticRegression(random_state=42)</pre><b>In a Jupyter environment, please rerun this cell to show the HTML representation or trust the notebook. <br />On GitHub, the HTML representation is unable to render, please try loading this page with nbviewer.org.</b></div><div class=\"sk-container\" hidden><div class=\"sk-item\"><div class=\"sk-estimator sk-toggleable\"><input class=\"sk-toggleable__control sk-hidden--visually\" id=\"sk-estimator-id-1\" type=\"checkbox\" checked><label for=\"sk-estimator-id-1\" class=\"sk-toggleable__label sk-toggleable__label-arrow\">LogisticRegression</label><div class=\"sk-toggleable__content\"><pre>LogisticRegression(random_state=42)</pre></div></div></div></div></div>"
      ],
      "text/plain": [
       "LogisticRegression(random_state=42)"
      ]
     },
     "execution_count": 51,
     "metadata": {},
     "output_type": "execute_result"
    }
   ],
   "source": [
    "logreg_sm = LogisticRegression(class_weight=None, random_state=42)\n",
    "logreg_sm.fit(x_train_sm, y_train_sm)"
   ]
  },
  {
   "cell_type": "markdown",
   "id": "54056eeb-9e3d-43e6-ad13-415d9999ef7b",
   "metadata": {},
   "source": [
    "**Predict and evaluate on the original test set**"
   ]
  },
  {
   "cell_type": "code",
   "execution_count": 58,
   "id": "39e4d4a5-e631-4d3d-ae6f-a383a4dcd60a",
   "metadata": {},
   "outputs": [],
   "source": [
    "y_pred_sm = logreg_sm.predict(x_test)"
   ]
  },
  {
   "cell_type": "markdown",
   "id": "6f53179f-d6ff-4175-a8b9-2a8bef415c45",
   "metadata": {},
   "source": [
    "**Confusion matrix**"
   ]
  },
  {
   "cell_type": "code",
   "execution_count": 64,
   "id": "eca386cb-30fb-4c6d-bfd5-a23eb3448d80",
   "metadata": {},
   "outputs": [
    {
     "name": "stdout",
     "output_type": "stream",
     "text": [
      "Confusion Matrix:\n",
      "[[968 403]\n",
      " [ 37  94]]\n"
     ]
    }
   ],
   "source": [
    "# Confusion matrix\n",
    "cm = confusion_matrix(y_test, y_pred_sm)\n",
    "print(\"Confusion Matrix:\")\n",
    "print(cm)"
   ]
  },
  {
   "cell_type": "code",
   "execution_count": 66,
   "id": "7a0522e0-5dee-41b9-bd60-32dce37ad4bb",
   "metadata": {},
   "outputs": [
    {
     "data": {
      "image/png": "[encoded data removed]",
      "text/plain": [
       "<Figure size 640x480 with 2 Axes>"
      ]
     },
     "metadata": {},
     "output_type": "display_data"
    }
   ],
   "source": [
    "sns.heatmap(cm, annot=True, fmt='d', cmap='Blues', xticklabels=['Pred 0', 'Pred 1'], yticklabels=['Actual 0', 'Actual 1'])\n",
    "plt.xlabel('Predicted')\n",
    "plt.ylabel('Actual')\n",
    "plt.title('Confusion Matrix')\n",
    "plt.show()"
   ]
  },
  {
   "cell_type": "markdown",
   "id": "fa62c4f6-866b-42bb-9c65-fd68a35d2396",
   "metadata": {},
   "source": [
    "**Model accuracy in percentage**"
   ]
  },
  {
   "cell_type": "code",
   "execution_count": 73,
   "id": "4dbe2377-1df6-4355-92f4-0e2ecf61739d",
   "metadata": {},
   "outputs": [
    {
     "data": {
      "text/plain": [
       "0.7070572569906791"
      ]
     },
     "execution_count": 73,
     "metadata": {},
     "output_type": "execute_result"
    }
   ],
   "source": [
    "cm1 = np.array(cm)\n",
    "accuracy_train = (cm[0,0]+cm[1,1])/cm.sum()\n",
    "accuracy_train"
   ]
  },
  {
   "cell_type": "markdown",
   "id": "e26a6d6a-86b8-48ba-9fce-9cbd619df486",
   "metadata": {},
   "source": [
    "**Classification report**"
   ]
  },
  {
   "cell_type": "code",
   "execution_count": 75,
   "id": "f555de9e-aebf-401f-bb79-a4b7365bb98b",
   "metadata": {},
   "outputs": [
    {
     "data": {
      "text/html": [
       "<div>\n",
       "<style scoped>\n",
       "    .dataframe tbody tr th:only-of-type {\n",
       "        vertical-align: middle;\n",
       "    }\n",
       "\n",
       "    .dataframe tbody tr th {\n",
       "        vertical-align: top;\n",
       "    }\n",
       "\n",
       "    .dataframe thead th {\n",
       "        text-align: right;\n",
       "    }\n",
       "</style>\n",
       "<table border=\"1\" class=\"dataframe\">\n",
       "  <thead>\n",
       "    <tr style=\"text-align: right;\">\n",
       "      <th></th>\n",
       "      <th>precision</th>\n",
       "      <th>recall</th>\n",
       "      <th>f1-score</th>\n",
       "      <th>support</th>\n",
       "    </tr>\n",
       "  </thead>\n",
       "  <tbody>\n",
       "    <tr>\n",
       "      <th>failure</th>\n",
       "      <td>0.963</td>\n",
       "      <td>0.706</td>\n",
       "      <td>0.815</td>\n",
       "      <td>1371.000</td>\n",
       "    </tr>\n",
       "    <tr>\n",
       "      <th>success</th>\n",
       "      <td>0.189</td>\n",
       "      <td>0.718</td>\n",
       "      <td>0.299</td>\n",
       "      <td>131.000</td>\n",
       "    </tr>\n",
       "    <tr>\n",
       "      <th>accuracy</th>\n",
       "      <td>0.707</td>\n",
       "      <td>0.707</td>\n",
       "      <td>0.707</td>\n",
       "      <td>0.707</td>\n",
       "    </tr>\n",
       "    <tr>\n",
       "      <th>macro avg</th>\n",
       "      <td>0.576</td>\n",
       "      <td>0.712</td>\n",
       "      <td>0.557</td>\n",
       "      <td>1502.000</td>\n",
       "    </tr>\n",
       "    <tr>\n",
       "      <th>weighted avg</th>\n",
       "      <td>0.896</td>\n",
       "      <td>0.707</td>\n",
       "      <td>0.770</td>\n",
       "      <td>1502.000</td>\n",
       "    </tr>\n",
       "  </tbody>\n",
       "</table>\n",
       "</div>"
      ],
      "text/plain": [
       "              precision  recall  f1-score   support\n",
       "failure           0.963   0.706     0.815  1371.000\n",
       "success           0.189   0.718     0.299   131.000\n",
       "accuracy          0.707   0.707     0.707     0.707\n",
       "macro avg         0.576   0.712     0.557  1502.000\n",
       "weighted avg      0.896   0.707     0.770  1502.000"
      ]
     },
     "execution_count": 75,
     "metadata": {},
     "output_type": "execute_result"
    }
   ],
   "source": [
    "# Generate the report as a dictionary\n",
    "report_dict = classification_report(y_test, y_pred_sm, output_dict=True, target_names=['failure', 'success'])\n",
    "\n",
    "# Convert to a DataFrame\n",
    "report_df = pd.DataFrame(report_dict).transpose()\n",
    "\n",
    "# Round for cleaner display\n",
    "report_df = report_df.round(3)\n",
    "\n",
    "# Show the table\n",
    "report_df"
   ]
  },
  {
   "cell_type": "code",
   "execution_count": null,
   "id": "9e32a97b-cb34-4288-bba8-e18ede15fb89",
   "metadata": {},
   "outputs": [],
   "source": []
  }
 ],
 "metadata": {
  "kernelspec": {
   "display_name": "Python [conda env:udemycourse]",
   "language": "python",
   "name": "conda-env-udemycourse-py"
  },
  "language_info": {
   "codemirror_mode": {
    "name": "ipython",
    "version": 3
   },
   "file_extension": ".py",
   "mimetype": "text/x-python",
   "name": "python",
   "nbconvert_exporter": "python",
   "pygments_lexer": "ipython3",
   "version": "3.8.20"
  }
 },
 "nbformat": 4,
 "nbformat_minor": 5
}
