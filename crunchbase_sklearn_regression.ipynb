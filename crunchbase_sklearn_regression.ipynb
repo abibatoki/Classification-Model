{
 "cells": [
  {
   "cell_type": "markdown",
   "id": "b50c6a1c-9b90-4a91-98cf-ba772a6cf1e0",
   "metadata": {},
   "source": [
    "**Import the relevant libraries**"
   ]
  },
  {
   "cell_type": "code",
   "execution_count": 3,
   "id": "9b8a5fee-8047-4cc5-b080-3d50764b0c21",
   "metadata": {},
   "outputs": [],
   "source": [
    "import numpy as np\n",
    "import pandas as pd\n",
    "import matplotlib.pyplot as plt\n",
    "import seaborn as sns\n",
    "sns.set()\n",
    "import warnings\n",
    "from sklearn.linear_model import LinearRegression\n",
    "\n",
    "\n",
    "warnings.filterwarnings('ignore')"
   ]
  },
  {
   "cell_type": "markdown",
   "id": "701ba57e-e4a2-4c5e-aef8-741533d1c8dd",
   "metadata": {},
   "source": [
    "**Load the data**"
   ]
  },
  {
   "cell_type": "code",
   "execution_count": 8,
   "id": "2c3905d7-2ab5-44c6-a59a-fd2a8d5c4b54",
   "metadata": {},
   "outputs": [],
   "source": [
    "data = pd.read_csv(r'C:\\Users\\user\\Downloads\\cleaned_startup_data.xls')"
   ]
  },
  {
   "cell_type": "code",
   "execution_count": 10,
   "id": "00d8d5c8-93fe-4599-915b-9bbadda804d1",
   "metadata": {},
   "outputs": [
    {
     "data": {
      "text/html": [
       "<div>\n",
       "<style scoped>\n",
       "    .dataframe tbody tr th:only-of-type {\n",
       "        vertical-align: middle;\n",
       "    }\n",
       "\n",
       "    .dataframe tbody tr th {\n",
       "        vertical-align: top;\n",
       "    }\n",
       "\n",
       "    .dataframe thead th {\n",
       "        text-align: right;\n",
       "    }\n",
       "</style>\n",
       "<table border=\"1\" class=\"dataframe\">\n",
       "  <thead>\n",
       "    <tr style=\"text-align: right;\">\n",
       "      <th></th>\n",
       "      <th>company_id</th>\n",
       "      <th>category_code</th>\n",
       "      <th>country_code</th>\n",
       "      <th>state_code</th>\n",
       "      <th>total_rounds</th>\n",
       "      <th>average_participants</th>\n",
       "      <th>offices</th>\n",
       "      <th>ipo</th>\n",
       "      <th>is_acquired</th>\n",
       "      <th>is_closed</th>\n",
       "      <th>age_years</th>\n",
       "      <th>status</th>\n",
       "      <th>log_average_funded</th>\n",
       "    </tr>\n",
       "  </thead>\n",
       "  <tbody>\n",
       "    <tr>\n",
       "      <th>0</th>\n",
       "      <td>c:10015</td>\n",
       "      <td>health</td>\n",
       "      <td>USA</td>\n",
       "      <td>California</td>\n",
       "      <td>5</td>\n",
       "      <td>3.8</td>\n",
       "      <td>1.0</td>\n",
       "      <td>0</td>\n",
       "      <td>0</td>\n",
       "      <td>0</td>\n",
       "      <td>6.26</td>\n",
       "      <td>0</td>\n",
       "      <td>16.426597</td>\n",
       "    </tr>\n",
       "    <tr>\n",
       "      <th>1</th>\n",
       "      <td>c:100228</td>\n",
       "      <td>education</td>\n",
       "      <td>USA</td>\n",
       "      <td>other</td>\n",
       "      <td>1</td>\n",
       "      <td>0.0</td>\n",
       "      <td>3.0</td>\n",
       "      <td>0</td>\n",
       "      <td>0</td>\n",
       "      <td>0</td>\n",
       "      <td>3.25</td>\n",
       "      <td>0</td>\n",
       "      <td>11.512925</td>\n",
       "    </tr>\n",
       "    <tr>\n",
       "      <th>2</th>\n",
       "      <td>c:100607</td>\n",
       "      <td>games_video</td>\n",
       "      <td>USA</td>\n",
       "      <td>California</td>\n",
       "      <td>1</td>\n",
       "      <td>1.0</td>\n",
       "      <td>1.0</td>\n",
       "      <td>0</td>\n",
       "      <td>0</td>\n",
       "      <td>0</td>\n",
       "      <td>3.00</td>\n",
       "      <td>0</td>\n",
       "      <td>10.596635</td>\n",
       "    </tr>\n",
       "    <tr>\n",
       "      <th>3</th>\n",
       "      <td>c:10075</td>\n",
       "      <td>web</td>\n",
       "      <td>USA</td>\n",
       "      <td>California</td>\n",
       "      <td>1</td>\n",
       "      <td>0.0</td>\n",
       "      <td>1.0</td>\n",
       "      <td>0</td>\n",
       "      <td>0</td>\n",
       "      <td>0</td>\n",
       "      <td>6.15</td>\n",
       "      <td>0</td>\n",
       "      <td>12.765688</td>\n",
       "    </tr>\n",
       "    <tr>\n",
       "      <th>4</th>\n",
       "      <td>c:100756</td>\n",
       "      <td>education</td>\n",
       "      <td>other</td>\n",
       "      <td>other</td>\n",
       "      <td>1</td>\n",
       "      <td>1.0</td>\n",
       "      <td>1.0</td>\n",
       "      <td>0</td>\n",
       "      <td>0</td>\n",
       "      <td>0</td>\n",
       "      <td>5.00</td>\n",
       "      <td>0</td>\n",
       "      <td>13.234838</td>\n",
       "    </tr>\n",
       "    <tr>\n",
       "      <th>...</th>\n",
       "      <td>...</td>\n",
       "      <td>...</td>\n",
       "      <td>...</td>\n",
       "      <td>...</td>\n",
       "      <td>...</td>\n",
       "      <td>...</td>\n",
       "      <td>...</td>\n",
       "      <td>...</td>\n",
       "      <td>...</td>\n",
       "      <td>...</td>\n",
       "      <td>...</td>\n",
       "      <td>...</td>\n",
       "      <td>...</td>\n",
       "    </tr>\n",
       "    <tr>\n",
       "      <th>7505</th>\n",
       "      <td>c:99669</td>\n",
       "      <td>enterprise</td>\n",
       "      <td>USA</td>\n",
       "      <td>other</td>\n",
       "      <td>1</td>\n",
       "      <td>6.0</td>\n",
       "      <td>1.0</td>\n",
       "      <td>0</td>\n",
       "      <td>0</td>\n",
       "      <td>0</td>\n",
       "      <td>3.00</td>\n",
       "      <td>0</td>\n",
       "      <td>13.527828</td>\n",
       "    </tr>\n",
       "    <tr>\n",
       "      <th>7506</th>\n",
       "      <td>c:9975</td>\n",
       "      <td>web</td>\n",
       "      <td>other</td>\n",
       "      <td>other</td>\n",
       "      <td>1</td>\n",
       "      <td>0.0</td>\n",
       "      <td>1.0</td>\n",
       "      <td>0</td>\n",
       "      <td>0</td>\n",
       "      <td>0</td>\n",
       "      <td>6.30</td>\n",
       "      <td>0</td>\n",
       "      <td>13.590714</td>\n",
       "    </tr>\n",
       "    <tr>\n",
       "      <th>7507</th>\n",
       "      <td>c:9977</td>\n",
       "      <td>mobile</td>\n",
       "      <td>USA</td>\n",
       "      <td>California</td>\n",
       "      <td>1</td>\n",
       "      <td>0.0</td>\n",
       "      <td>1.0</td>\n",
       "      <td>0</td>\n",
       "      <td>0</td>\n",
       "      <td>1</td>\n",
       "      <td>5.62</td>\n",
       "      <td>0</td>\n",
       "      <td>11.775290</td>\n",
       "    </tr>\n",
       "    <tr>\n",
       "      <th>7508</th>\n",
       "      <td>c:9995</td>\n",
       "      <td>public_relations</td>\n",
       "      <td>USA</td>\n",
       "      <td>California</td>\n",
       "      <td>1</td>\n",
       "      <td>0.0</td>\n",
       "      <td>1.0</td>\n",
       "      <td>0</td>\n",
       "      <td>0</td>\n",
       "      <td>0</td>\n",
       "      <td>6.17</td>\n",
       "      <td>0</td>\n",
       "      <td>13.527828</td>\n",
       "    </tr>\n",
       "    <tr>\n",
       "      <th>7509</th>\n",
       "      <td>c:9998</td>\n",
       "      <td>ecommerce</td>\n",
       "      <td>USA</td>\n",
       "      <td>California</td>\n",
       "      <td>1</td>\n",
       "      <td>0.0</td>\n",
       "      <td>1.0</td>\n",
       "      <td>0</td>\n",
       "      <td>0</td>\n",
       "      <td>0</td>\n",
       "      <td>6.34</td>\n",
       "      <td>0</td>\n",
       "      <td>13.071070</td>\n",
       "    </tr>\n",
       "  </tbody>\n",
       "</table>\n",
       "<p>7510 rows × 13 columns</p>\n",
       "</div>"
      ],
      "text/plain": [
       "     company_id     category_code country_code  state_code  total_rounds  \\\n",
       "0       c:10015            health          USA  California             5   \n",
       "1      c:100228         education          USA       other             1   \n",
       "2      c:100607       games_video          USA  California             1   \n",
       "3       c:10075               web          USA  California             1   \n",
       "4      c:100756         education        other       other             1   \n",
       "...         ...               ...          ...         ...           ...   \n",
       "7505    c:99669        enterprise          USA       other             1   \n",
       "7506     c:9975               web        other       other             1   \n",
       "7507     c:9977            mobile          USA  California             1   \n",
       "7508     c:9995  public_relations          USA  California             1   \n",
       "7509     c:9998         ecommerce          USA  California             1   \n",
       "\n",
       "      average_participants  offices  ipo  is_acquired  is_closed  age_years  \\\n",
       "0                      3.8      1.0    0            0          0       6.26   \n",
       "1                      0.0      3.0    0            0          0       3.25   \n",
       "2                      1.0      1.0    0            0          0       3.00   \n",
       "3                      0.0      1.0    0            0          0       6.15   \n",
       "4                      1.0      1.0    0            0          0       5.00   \n",
       "...                    ...      ...  ...          ...        ...        ...   \n",
       "7505                   6.0      1.0    0            0          0       3.00   \n",
       "7506                   0.0      1.0    0            0          0       6.30   \n",
       "7507                   0.0      1.0    0            0          1       5.62   \n",
       "7508                   0.0      1.0    0            0          0       6.17   \n",
       "7509                   0.0      1.0    0            0          0       6.34   \n",
       "\n",
       "      status  log_average_funded  \n",
       "0          0           16.426597  \n",
       "1          0           11.512925  \n",
       "2          0           10.596635  \n",
       "3          0           12.765688  \n",
       "4          0           13.234838  \n",
       "...      ...                 ...  \n",
       "7505       0           13.527828  \n",
       "7506       0           13.590714  \n",
       "7507       0           11.775290  \n",
       "7508       0           13.527828  \n",
       "7509       0           13.071070  \n",
       "\n",
       "[7510 rows x 13 columns]"
      ]
     },
     "execution_count": 10,
     "metadata": {},
     "output_type": "execute_result"
    }
   ],
   "source": [
    "data"
   ]
  },
  {
   "cell_type": "code",
   "execution_count": 12,
   "id": "4637b1eb-267b-4de5-97c7-25ca0c2aa438",
   "metadata": {},
   "outputs": [
    {
     "data": {
      "text/html": [
       "<div>\n",
       "<style scoped>\n",
       "    .dataframe tbody tr th:only-of-type {\n",
       "        vertical-align: middle;\n",
       "    }\n",
       "\n",
       "    .dataframe tbody tr th {\n",
       "        vertical-align: top;\n",
       "    }\n",
       "\n",
       "    .dataframe thead th {\n",
       "        text-align: right;\n",
       "    }\n",
       "</style>\n",
       "<table border=\"1\" class=\"dataframe\">\n",
       "  <thead>\n",
       "    <tr style=\"text-align: right;\">\n",
       "      <th></th>\n",
       "      <th>total_rounds</th>\n",
       "      <th>average_participants</th>\n",
       "      <th>offices</th>\n",
       "      <th>ipo</th>\n",
       "      <th>is_acquired</th>\n",
       "      <th>is_closed</th>\n",
       "      <th>age_years</th>\n",
       "      <th>status</th>\n",
       "      <th>log_average_funded</th>\n",
       "    </tr>\n",
       "  </thead>\n",
       "  <tbody>\n",
       "    <tr>\n",
       "      <th>count</th>\n",
       "      <td>7510.000000</td>\n",
       "      <td>7510.000000</td>\n",
       "      <td>7510.000000</td>\n",
       "      <td>7510.000000</td>\n",
       "      <td>7510.000000</td>\n",
       "      <td>7510.000000</td>\n",
       "      <td>7510.000000</td>\n",
       "      <td>7510.000000</td>\n",
       "      <td>7510.000000</td>\n",
       "    </tr>\n",
       "    <tr>\n",
       "      <th>mean</th>\n",
       "      <td>1.777097</td>\n",
       "      <td>1.202918</td>\n",
       "      <td>1.130892</td>\n",
       "      <td>0.001465</td>\n",
       "      <td>0.085619</td>\n",
       "      <td>0.071372</td>\n",
       "      <td>4.532304</td>\n",
       "      <td>0.087084</td>\n",
       "      <td>13.845281</td>\n",
       "    </tr>\n",
       "    <tr>\n",
       "      <th>std</th>\n",
       "      <td>1.039688</td>\n",
       "      <td>1.463043</td>\n",
       "      <td>0.389695</td>\n",
       "      <td>0.038246</td>\n",
       "      <td>0.279820</td>\n",
       "      <td>0.257462</td>\n",
       "      <td>1.154526</td>\n",
       "      <td>0.281977</td>\n",
       "      <td>1.794007</td>\n",
       "    </tr>\n",
       "    <tr>\n",
       "      <th>min</th>\n",
       "      <td>1.000000</td>\n",
       "      <td>0.000000</td>\n",
       "      <td>1.000000</td>\n",
       "      <td>0.000000</td>\n",
       "      <td>0.000000</td>\n",
       "      <td>0.000000</td>\n",
       "      <td>3.000000</td>\n",
       "      <td>0.000000</td>\n",
       "      <td>5.673323</td>\n",
       "    </tr>\n",
       "    <tr>\n",
       "      <th>25%</th>\n",
       "      <td>1.000000</td>\n",
       "      <td>0.000000</td>\n",
       "      <td>1.000000</td>\n",
       "      <td>0.000000</td>\n",
       "      <td>0.000000</td>\n",
       "      <td>0.000000</td>\n",
       "      <td>3.590000</td>\n",
       "      <td>0.000000</td>\n",
       "      <td>12.686936</td>\n",
       "    </tr>\n",
       "    <tr>\n",
       "      <th>50%</th>\n",
       "      <td>1.000000</td>\n",
       "      <td>1.000000</td>\n",
       "      <td>1.000000</td>\n",
       "      <td>0.000000</td>\n",
       "      <td>0.000000</td>\n",
       "      <td>0.000000</td>\n",
       "      <td>4.330000</td>\n",
       "      <td>0.000000</td>\n",
       "      <td>13.997832</td>\n",
       "    </tr>\n",
       "    <tr>\n",
       "      <th>75%</th>\n",
       "      <td>2.000000</td>\n",
       "      <td>2.000000</td>\n",
       "      <td>1.000000</td>\n",
       "      <td>0.000000</td>\n",
       "      <td>0.000000</td>\n",
       "      <td>0.000000</td>\n",
       "      <td>5.497500</td>\n",
       "      <td>0.000000</td>\n",
       "      <td>15.201805</td>\n",
       "    </tr>\n",
       "    <tr>\n",
       "      <th>max</th>\n",
       "      <td>5.000000</td>\n",
       "      <td>7.666700</td>\n",
       "      <td>3.000000</td>\n",
       "      <td>1.000000</td>\n",
       "      <td>1.000000</td>\n",
       "      <td>1.000000</td>\n",
       "      <td>7.000000</td>\n",
       "      <td>1.000000</td>\n",
       "      <td>17.639795</td>\n",
       "    </tr>\n",
       "  </tbody>\n",
       "</table>\n",
       "</div>"
      ],
      "text/plain": [
       "       total_rounds  average_participants      offices          ipo  \\\n",
       "count   7510.000000           7510.000000  7510.000000  7510.000000   \n",
       "mean       1.777097              1.202918     1.130892     0.001465   \n",
       "std        1.039688              1.463043     0.389695     0.038246   \n",
       "min        1.000000              0.000000     1.000000     0.000000   \n",
       "25%        1.000000              0.000000     1.000000     0.000000   \n",
       "50%        1.000000              1.000000     1.000000     0.000000   \n",
       "75%        2.000000              2.000000     1.000000     0.000000   \n",
       "max        5.000000              7.666700     3.000000     1.000000   \n",
       "\n",
       "       is_acquired    is_closed    age_years       status  log_average_funded  \n",
       "count  7510.000000  7510.000000  7510.000000  7510.000000         7510.000000  \n",
       "mean      0.085619     0.071372     4.532304     0.087084           13.845281  \n",
       "std       0.279820     0.257462     1.154526     0.281977            1.794007  \n",
       "min       0.000000     0.000000     3.000000     0.000000            5.673323  \n",
       "25%       0.000000     0.000000     3.590000     0.000000           12.686936  \n",
       "50%       0.000000     0.000000     4.330000     0.000000           13.997832  \n",
       "75%       0.000000     0.000000     5.497500     0.000000           15.201805  \n",
       "max       1.000000     1.000000     7.000000     1.000000           17.639795  "
      ]
     },
     "execution_count": 12,
     "metadata": {},
     "output_type": "execute_result"
    }
   ],
   "source": [
    "#descriptive statistic\n",
    "data.describe()"
   ]
  },
  {
   "cell_type": "markdown",
   "id": "5203d418-4a74-40fe-b2c3-a1830cc9a963",
   "metadata": {},
   "source": [
    "Following the results obtained from the simple multiple linear regression,\n",
    "I did not include 'offices' and 'is_acquired' in this regression with sklearn,\n",
    "because they are not statistically significant"
   ]
  },
  {
   "cell_type": "code",
   "execution_count": 16,
   "id": "15295226-5ea7-4937-963c-79dedb742ab4",
   "metadata": {},
   "outputs": [],
   "source": [
    "#declare the dependent and independent variable\n",
    "x = data[['total_rounds', 'average_participants', 'ipo', 'is_closed', 'age_years', 'status']]\n",
    "y = data['log_average_funded']"
   ]
  },
  {
   "cell_type": "code",
   "execution_count": 18,
   "id": "8a2e26fc-9a33-4fb8-a333-3a47a1d10318",
   "metadata": {},
   "outputs": [
    {
     "data": {
      "text/html": [
       "<style>#sk-container-id-1 {color: black;}#sk-container-id-1 pre{padding: 0;}#sk-container-id-1 div.sk-toggleable {background-color: white;}#sk-container-id-1 label.sk-toggleable__label {cursor: pointer;display: block;width: 100%;margin-bottom: 0;padding: 0.3em;box-sizing: border-box;text-align: center;}#sk-container-id-1 label.sk-toggleable__label-arrow:before {content: \"▸\";float: left;margin-right: 0.25em;color: #696969;}#sk-container-id-1 label.sk-toggleable__label-arrow:hover:before {color: black;}#sk-container-id-1 div.sk-estimator:hover label.sk-toggleable__label-arrow:before {color: black;}#sk-container-id-1 div.sk-toggleable__content {max-height: 0;max-width: 0;overflow: hidden;text-align: left;background-color: #f0f8ff;}#sk-container-id-1 div.sk-toggleable__content pre {margin: 0.2em;color: black;border-radius: 0.25em;background-color: #f0f8ff;}#sk-container-id-1 input.sk-toggleable__control:checked~div.sk-toggleable__content {max-height: 200px;max-width: 100%;overflow: auto;}#sk-container-id-1 input.sk-toggleable__control:checked~label.sk-toggleable__label-arrow:before {content: \"▾\";}#sk-container-id-1 div.sk-estimator input.sk-toggleable__control:checked~label.sk-toggleable__label {background-color: #d4ebff;}#sk-container-id-1 div.sk-label input.sk-toggleable__control:checked~label.sk-toggleable__label {background-color: #d4ebff;}#sk-container-id-1 input.sk-hidden--visually {border: 0;clip: rect(1px 1px 1px 1px);clip: rect(1px, 1px, 1px, 1px);height: 1px;margin: -1px;overflow: hidden;padding: 0;position: absolute;width: 1px;}#sk-container-id-1 div.sk-estimator {font-family: monospace;background-color: #f0f8ff;border: 1px dotted black;border-radius: 0.25em;box-sizing: border-box;margin-bottom: 0.5em;}#sk-container-id-1 div.sk-estimator:hover {background-color: #d4ebff;}#sk-container-id-1 div.sk-parallel-item::after {content: \"\";width: 100%;border-bottom: 1px solid gray;flex-grow: 1;}#sk-container-id-1 div.sk-label:hover label.sk-toggleable__label {background-color: #d4ebff;}#sk-container-id-1 div.sk-serial::before {content: \"\";position: absolute;border-left: 1px solid gray;box-sizing: border-box;top: 0;bottom: 0;left: 50%;z-index: 0;}#sk-container-id-1 div.sk-serial {display: flex;flex-direction: column;align-items: center;background-color: white;padding-right: 0.2em;padding-left: 0.2em;position: relative;}#sk-container-id-1 div.sk-item {position: relative;z-index: 1;}#sk-container-id-1 div.sk-parallel {display: flex;align-items: stretch;justify-content: center;background-color: white;position: relative;}#sk-container-id-1 div.sk-item::before, #sk-container-id-1 div.sk-parallel-item::before {content: \"\";position: absolute;border-left: 1px solid gray;box-sizing: border-box;top: 0;bottom: 0;left: 50%;z-index: -1;}#sk-container-id-1 div.sk-parallel-item {display: flex;flex-direction: column;z-index: 1;position: relative;background-color: white;}#sk-container-id-1 div.sk-parallel-item:first-child::after {align-self: flex-end;width: 50%;}#sk-container-id-1 div.sk-parallel-item:last-child::after {align-self: flex-start;width: 50%;}#sk-container-id-1 div.sk-parallel-item:only-child::after {width: 0;}#sk-container-id-1 div.sk-dashed-wrapped {border: 1px dashed gray;margin: 0 0.4em 0.5em 0.4em;box-sizing: border-box;padding-bottom: 0.4em;background-color: white;}#sk-container-id-1 div.sk-label label {font-family: monospace;font-weight: bold;display: inline-block;line-height: 1.2em;}#sk-container-id-1 div.sk-label-container {text-align: center;}#sk-container-id-1 div.sk-container {/* jupyter's `normalize.less` sets `[hidden] { display: none; }` but bootstrap.min.css set `[hidden] { display: none !important; }` so we also need the `!important` here to be able to override the default hidden behavior on the sphinx rendered scikit-learn.org. See: https://github.com/scikit-learn/scikit-learn/issues/21755 */display: inline-block !important;position: relative;}#sk-container-id-1 div.sk-text-repr-fallback {display: none;}</style><div id=\"sk-container-id-1\" class=\"sk-top-container\"><div class=\"sk-text-repr-fallback\"><pre>LinearRegression()</pre><b>In a Jupyter environment, please rerun this cell to show the HTML representation or trust the notebook. <br />On GitHub, the HTML representation is unable to render, please try loading this page with nbviewer.org.</b></div><div class=\"sk-container\" hidden><div class=\"sk-item\"><div class=\"sk-estimator sk-toggleable\"><input class=\"sk-toggleable__control sk-hidden--visually\" id=\"sk-estimator-id-1\" type=\"checkbox\" checked><label for=\"sk-estimator-id-1\" class=\"sk-toggleable__label sk-toggleable__label-arrow\">LinearRegression</label><div class=\"sk-toggleable__content\"><pre>LinearRegression()</pre></div></div></div></div></div>"
      ],
      "text/plain": [
       "LinearRegression()"
      ]
     },
     "execution_count": 18,
     "metadata": {},
     "output_type": "execute_result"
    }
   ],
   "source": [
    "#regression itself\n",
    "reg = LinearRegression()\n",
    "reg.fit(x,y)"
   ]
  },
  {
   "cell_type": "code",
   "execution_count": 20,
   "id": "9de7255c-d81e-4340-bae2-78a0d8be754a",
   "metadata": {},
   "outputs": [
    {
     "data": {
      "text/plain": [
       "0.2440329912317336"
      ]
     },
     "execution_count": 20,
     "metadata": {},
     "output_type": "execute_result"
    }
   ],
   "source": [
    "#r-square\n",
    "reg.score(x,y)"
   ]
  },
  {
   "cell_type": "code",
   "execution_count": 22,
   "id": "079d01ec-8397-4a15-befc-2ccd07ed81b6",
   "metadata": {},
   "outputs": [
    {
     "data": {
      "text/plain": [
       "11.942042262560859"
      ]
     },
     "execution_count": 22,
     "metadata": {},
     "output_type": "execute_result"
    }
   ],
   "source": [
    "#intercept\n",
    "reg.intercept_"
   ]
  },
  {
   "cell_type": "code",
   "execution_count": 24,
   "id": "55c33238-cfde-4f22-be0f-908425e22a39",
   "metadata": {},
   "outputs": [
    {
     "data": {
      "text/plain": [
       "array([ 0.37290024,  0.35676797,  1.08800008, -0.87613718,  0.17839037,\n",
       "        0.73278804])"
      ]
     },
     "execution_count": 24,
     "metadata": {},
     "output_type": "execute_result"
    }
   ],
   "source": [
    "#coefficients\n",
    "reg.coef_"
   ]
  },
  {
   "cell_type": "code",
   "execution_count": 26,
   "id": "964442ef-affa-4560-b533-5eabb8749afd",
   "metadata": {},
   "outputs": [],
   "source": [
    "#find the adjusted r-squared\n",
    "def adj_r2(x,y):\n",
    "    r2 = reg.score(x,y)\n",
    "    n = x.shape[0]\n",
    "    p = x.shape[1]\n",
    "    adjusted_r2 = 1-(1-r2)*(n-1)/(n-p-1)\n",
    "    return adjusted_r2"
   ]
  },
  {
   "cell_type": "code",
   "execution_count": 28,
   "id": "60842457-d69e-440c-af6e-26168da83d4d",
   "metadata": {},
   "outputs": [
    {
     "data": {
      "text/plain": [
       "0.24342845943743663"
      ]
     },
     "execution_count": 28,
     "metadata": {},
     "output_type": "execute_result"
    }
   ],
   "source": [
    "#call the adjusted r-square function to get the result\n",
    "adj_r2(x,y)"
   ]
  },
  {
   "cell_type": "markdown",
   "id": "930d7c47-5bf4-4176-9933-814b35a6815e",
   "metadata": {},
   "source": [
    "**Calculate the univariate p-values of the variables**"
   ]
  },
  {
   "cell_type": "markdown",
   "id": "bb4723cd-af08-4b0e-87f1-048ca6cc76e0",
   "metadata": {},
   "source": [
    "**Feature Selection**"
   ]
  },
  {
   "cell_type": "code",
   "execution_count": 32,
   "id": "e95fcb39-8d2d-40ca-8012-b12996c33a1e",
   "metadata": {},
   "outputs": [
    {
     "data": {
      "text/plain": [
       "(array([ 894.40760231, 1219.62488543,   11.82714283,  224.21789595,\n",
       "         170.41637753,  381.4976664 ]),\n",
       " array([9.04773941e-186, 9.66887384e-248, 5.86907688e-004, 5.69666096e-050,\n",
       "        1.57329990e-038, 6.54079811e-083]))"
      ]
     },
     "execution_count": 32,
     "metadata": {},
     "output_type": "execute_result"
    }
   ],
   "source": [
    "from sklearn.feature_selection import f_regression\n",
    "f_regression(x,y)"
   ]
  },
  {
   "cell_type": "code",
   "execution_count": 34,
   "id": "dcfe0605-b2bc-42d1-b435-ff14f1538dd0",
   "metadata": {},
   "outputs": [
    {
     "data": {
      "text/plain": [
       "array([9.04773941e-186, 9.66887384e-248, 5.86907688e-004, 5.69666096e-050,\n",
       "       1.57329990e-038, 6.54079811e-083])"
      ]
     },
     "execution_count": 34,
     "metadata": {},
     "output_type": "execute_result"
    }
   ],
   "source": [
    "#get the p values\n",
    "p_values = f_regression(x,y)[1]\n",
    "p_values"
   ]
  },
  {
   "cell_type": "code",
   "execution_count": 38,
   "id": "9d842fca-c83e-43f2-bd94-a2955df3ee17",
   "metadata": {},
   "outputs": [
    {
     "data": {
      "text/plain": [
       "array([0.   , 0.   , 0.001, 0.   , 0.   , 0.   ])"
      ]
     },
     "execution_count": 38,
     "metadata": {},
     "output_type": "execute_result"
    }
   ],
   "source": [
    "#round to 3 d.p.\n",
    "p_values.round(3)"
   ]
  },
  {
   "cell_type": "markdown",
   "id": "75f510e5-c89d-4507-8796-31f4fff113a3",
   "metadata": {},
   "source": [
    "**Create a summary table**"
   ]
  },
  {
   "cell_type": "code",
   "execution_count": 41,
   "id": "110056bf-5749-4c0c-a144-46c04a37e3d5",
   "metadata": {},
   "outputs": [],
   "source": [
    "reg_summary = pd.DataFrame(data=x.columns.values, columns=['Features'])\n",
    "reg_summary['Coefficients'] = reg.coef_\n",
    "reg_summary['P-values'] = p_values.round(3)"
   ]
  },
  {
   "cell_type": "code",
   "execution_count": 43,
   "id": "4585fe83-f442-4023-9500-a60a4e1d2115",
   "metadata": {},
   "outputs": [
    {
     "data": {
      "text/html": [
       "<div>\n",
       "<style scoped>\n",
       "    .dataframe tbody tr th:only-of-type {\n",
       "        vertical-align: middle;\n",
       "    }\n",
       "\n",
       "    .dataframe tbody tr th {\n",
       "        vertical-align: top;\n",
       "    }\n",
       "\n",
       "    .dataframe thead th {\n",
       "        text-align: right;\n",
       "    }\n",
       "</style>\n",
       "<table border=\"1\" class=\"dataframe\">\n",
       "  <thead>\n",
       "    <tr style=\"text-align: right;\">\n",
       "      <th></th>\n",
       "      <th>Features</th>\n",
       "      <th>Coefficients</th>\n",
       "      <th>P-values</th>\n",
       "    </tr>\n",
       "  </thead>\n",
       "  <tbody>\n",
       "    <tr>\n",
       "      <th>0</th>\n",
       "      <td>total_rounds</td>\n",
       "      <td>0.372900</td>\n",
       "      <td>0.000</td>\n",
       "    </tr>\n",
       "    <tr>\n",
       "      <th>1</th>\n",
       "      <td>average_participants</td>\n",
       "      <td>0.356768</td>\n",
       "      <td>0.000</td>\n",
       "    </tr>\n",
       "    <tr>\n",
       "      <th>2</th>\n",
       "      <td>ipo</td>\n",
       "      <td>1.088000</td>\n",
       "      <td>0.001</td>\n",
       "    </tr>\n",
       "    <tr>\n",
       "      <th>3</th>\n",
       "      <td>is_closed</td>\n",
       "      <td>-0.876137</td>\n",
       "      <td>0.000</td>\n",
       "    </tr>\n",
       "    <tr>\n",
       "      <th>4</th>\n",
       "      <td>age_years</td>\n",
       "      <td>0.178390</td>\n",
       "      <td>0.000</td>\n",
       "    </tr>\n",
       "    <tr>\n",
       "      <th>5</th>\n",
       "      <td>status</td>\n",
       "      <td>0.732788</td>\n",
       "      <td>0.000</td>\n",
       "    </tr>\n",
       "  </tbody>\n",
       "</table>\n",
       "</div>"
      ],
      "text/plain": [
       "               Features  Coefficients  P-values\n",
       "0          total_rounds      0.372900     0.000\n",
       "1  average_participants      0.356768     0.000\n",
       "2                   ipo      1.088000     0.001\n",
       "3             is_closed     -0.876137     0.000\n",
       "4             age_years      0.178390     0.000\n",
       "5                status      0.732788     0.000"
      ]
     },
     "execution_count": 43,
     "metadata": {},
     "output_type": "execute_result"
    }
   ],
   "source": [
    "reg_summary"
   ]
  },
  {
   "cell_type": "code",
   "execution_count": null,
   "id": "6944b466-ef15-4e64-846b-5df1dfa6928e",
   "metadata": {},
   "outputs": [],
   "source": []
  }
 ],
 "metadata": {
  "kernelspec": {
   "display_name": "Python [conda env:udemycourse]",
   "language": "python",
   "name": "conda-env-udemycourse-py"
  },
  "language_info": {
   "codemirror_mode": {
    "name": "ipython",
    "version": 3
   },
   "file_extension": ".py",
   "mimetype": "text/x-python",
   "name": "python",
   "nbconvert_exporter": "python",
   "pygments_lexer": "ipython3",
   "version": "3.8.20"
  }
 },
 "nbformat": 4,
 "nbformat_minor": 5
}
