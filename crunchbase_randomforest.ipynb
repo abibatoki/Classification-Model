{
 "cells": [
  {
   "cell_type": "markdown",
   "id": "3bd20a1a-d756-4ae0-82d3-e900f3ac29f9",
   "metadata": {},
   "source": [
    "**Import the relevant libraries**"
   ]
  },
  {
   "cell_type": "code",
   "execution_count": 3,
   "id": "94dc8224-0226-4e85-81d0-4c4d74668dd6",
   "metadata": {},
   "outputs": [],
   "source": [
    "import numpy as np\n",
    "import pandas as pd\n",
    "import matplotlib.pyplot as plt\n",
    "import seaborn as sns\n",
    "sns.set()\n",
    "import warnings\n",
    "from imblearn.over_sampling import SMOTE\n",
    "from sklearn.model_selection import train_test_split\n",
    "from sklearn.linear_model import LogisticRegression\n",
    "from sklearn.ensemble import RandomForestClassifier\n",
    "from sklearn.metrics import classification_report, confusion_matrix\n",
    "from collections import Counter\n",
    "\n",
    "warnings.filterwarnings('ignore')"
   ]
  },
  {
   "cell_type": "markdown",
   "id": "755d3821-690a-47fa-af18-34545c81bef1",
   "metadata": {},
   "source": [
    "**load the data**"
   ]
  },
  {
   "cell_type": "code",
   "execution_count": 5,
   "id": "49e57502-ccd9-4078-85a9-8ae19b086552",
   "metadata": {},
   "outputs": [
    {
     "data": {
      "text/html": [
       "<div>\n",
       "<style scoped>\n",
       "    .dataframe tbody tr th:only-of-type {\n",
       "        vertical-align: middle;\n",
       "    }\n",
       "\n",
       "    .dataframe tbody tr th {\n",
       "        vertical-align: top;\n",
       "    }\n",
       "\n",
       "    .dataframe thead th {\n",
       "        text-align: right;\n",
       "    }\n",
       "</style>\n",
       "<table border=\"1\" class=\"dataframe\">\n",
       "  <thead>\n",
       "    <tr style=\"text-align: right;\">\n",
       "      <th></th>\n",
       "      <th>company_id</th>\n",
       "      <th>category_code</th>\n",
       "      <th>country_code</th>\n",
       "      <th>state_code</th>\n",
       "      <th>total_rounds</th>\n",
       "      <th>average_participants</th>\n",
       "      <th>offices</th>\n",
       "      <th>ipo</th>\n",
       "      <th>is_acquired</th>\n",
       "      <th>is_closed</th>\n",
       "      <th>age_years</th>\n",
       "      <th>status</th>\n",
       "      <th>log_average_funded</th>\n",
       "    </tr>\n",
       "  </thead>\n",
       "  <tbody>\n",
       "    <tr>\n",
       "      <th>0</th>\n",
       "      <td>c:10015</td>\n",
       "      <td>health</td>\n",
       "      <td>USA</td>\n",
       "      <td>California</td>\n",
       "      <td>5</td>\n",
       "      <td>3.8</td>\n",
       "      <td>1.0</td>\n",
       "      <td>0</td>\n",
       "      <td>0</td>\n",
       "      <td>0</td>\n",
       "      <td>6.26</td>\n",
       "      <td>0</td>\n",
       "      <td>16.426597</td>\n",
       "    </tr>\n",
       "    <tr>\n",
       "      <th>1</th>\n",
       "      <td>c:100228</td>\n",
       "      <td>education</td>\n",
       "      <td>USA</td>\n",
       "      <td>other</td>\n",
       "      <td>1</td>\n",
       "      <td>0.0</td>\n",
       "      <td>3.0</td>\n",
       "      <td>0</td>\n",
       "      <td>0</td>\n",
       "      <td>0</td>\n",
       "      <td>3.25</td>\n",
       "      <td>0</td>\n",
       "      <td>11.512925</td>\n",
       "    </tr>\n",
       "    <tr>\n",
       "      <th>2</th>\n",
       "      <td>c:100607</td>\n",
       "      <td>games_video</td>\n",
       "      <td>USA</td>\n",
       "      <td>California</td>\n",
       "      <td>1</td>\n",
       "      <td>1.0</td>\n",
       "      <td>1.0</td>\n",
       "      <td>0</td>\n",
       "      <td>0</td>\n",
       "      <td>0</td>\n",
       "      <td>3.00</td>\n",
       "      <td>0</td>\n",
       "      <td>10.596635</td>\n",
       "    </tr>\n",
       "    <tr>\n",
       "      <th>3</th>\n",
       "      <td>c:10075</td>\n",
       "      <td>web</td>\n",
       "      <td>USA</td>\n",
       "      <td>California</td>\n",
       "      <td>1</td>\n",
       "      <td>0.0</td>\n",
       "      <td>1.0</td>\n",
       "      <td>0</td>\n",
       "      <td>0</td>\n",
       "      <td>0</td>\n",
       "      <td>6.15</td>\n",
       "      <td>0</td>\n",
       "      <td>12.765688</td>\n",
       "    </tr>\n",
       "    <tr>\n",
       "      <th>4</th>\n",
       "      <td>c:100756</td>\n",
       "      <td>education</td>\n",
       "      <td>other</td>\n",
       "      <td>other</td>\n",
       "      <td>1</td>\n",
       "      <td>1.0</td>\n",
       "      <td>1.0</td>\n",
       "      <td>0</td>\n",
       "      <td>0</td>\n",
       "      <td>0</td>\n",
       "      <td>5.00</td>\n",
       "      <td>0</td>\n",
       "      <td>13.234838</td>\n",
       "    </tr>\n",
       "    <tr>\n",
       "      <th>...</th>\n",
       "      <td>...</td>\n",
       "      <td>...</td>\n",
       "      <td>...</td>\n",
       "      <td>...</td>\n",
       "      <td>...</td>\n",
       "      <td>...</td>\n",
       "      <td>...</td>\n",
       "      <td>...</td>\n",
       "      <td>...</td>\n",
       "      <td>...</td>\n",
       "      <td>...</td>\n",
       "      <td>...</td>\n",
       "      <td>...</td>\n",
       "    </tr>\n",
       "    <tr>\n",
       "      <th>7505</th>\n",
       "      <td>c:99669</td>\n",
       "      <td>enterprise</td>\n",
       "      <td>USA</td>\n",
       "      <td>other</td>\n",
       "      <td>1</td>\n",
       "      <td>6.0</td>\n",
       "      <td>1.0</td>\n",
       "      <td>0</td>\n",
       "      <td>0</td>\n",
       "      <td>0</td>\n",
       "      <td>3.00</td>\n",
       "      <td>0</td>\n",
       "      <td>13.527828</td>\n",
       "    </tr>\n",
       "    <tr>\n",
       "      <th>7506</th>\n",
       "      <td>c:9975</td>\n",
       "      <td>web</td>\n",
       "      <td>other</td>\n",
       "      <td>other</td>\n",
       "      <td>1</td>\n",
       "      <td>0.0</td>\n",
       "      <td>1.0</td>\n",
       "      <td>0</td>\n",
       "      <td>0</td>\n",
       "      <td>0</td>\n",
       "      <td>6.30</td>\n",
       "      <td>0</td>\n",
       "      <td>13.590714</td>\n",
       "    </tr>\n",
       "    <tr>\n",
       "      <th>7507</th>\n",
       "      <td>c:9977</td>\n",
       "      <td>mobile</td>\n",
       "      <td>USA</td>\n",
       "      <td>California</td>\n",
       "      <td>1</td>\n",
       "      <td>0.0</td>\n",
       "      <td>1.0</td>\n",
       "      <td>0</td>\n",
       "      <td>0</td>\n",
       "      <td>1</td>\n",
       "      <td>5.62</td>\n",
       "      <td>0</td>\n",
       "      <td>11.775290</td>\n",
       "    </tr>\n",
       "    <tr>\n",
       "      <th>7508</th>\n",
       "      <td>c:9995</td>\n",
       "      <td>public_relations</td>\n",
       "      <td>USA</td>\n",
       "      <td>California</td>\n",
       "      <td>1</td>\n",
       "      <td>0.0</td>\n",
       "      <td>1.0</td>\n",
       "      <td>0</td>\n",
       "      <td>0</td>\n",
       "      <td>0</td>\n",
       "      <td>6.17</td>\n",
       "      <td>0</td>\n",
       "      <td>13.527828</td>\n",
       "    </tr>\n",
       "    <tr>\n",
       "      <th>7509</th>\n",
       "      <td>c:9998</td>\n",
       "      <td>ecommerce</td>\n",
       "      <td>USA</td>\n",
       "      <td>California</td>\n",
       "      <td>1</td>\n",
       "      <td>0.0</td>\n",
       "      <td>1.0</td>\n",
       "      <td>0</td>\n",
       "      <td>0</td>\n",
       "      <td>0</td>\n",
       "      <td>6.34</td>\n",
       "      <td>0</td>\n",
       "      <td>13.071070</td>\n",
       "    </tr>\n",
       "  </tbody>\n",
       "</table>\n",
       "<p>7510 rows × 13 columns</p>\n",
       "</div>"
      ],
      "text/plain": [
       "     company_id     category_code country_code  state_code  total_rounds  \\\n",
       "0       c:10015            health          USA  California             5   \n",
       "1      c:100228         education          USA       other             1   \n",
       "2      c:100607       games_video          USA  California             1   \n",
       "3       c:10075               web          USA  California             1   \n",
       "4      c:100756         education        other       other             1   \n",
       "...         ...               ...          ...         ...           ...   \n",
       "7505    c:99669        enterprise          USA       other             1   \n",
       "7506     c:9975               web        other       other             1   \n",
       "7507     c:9977            mobile          USA  California             1   \n",
       "7508     c:9995  public_relations          USA  California             1   \n",
       "7509     c:9998         ecommerce          USA  California             1   \n",
       "\n",
       "      average_participants  offices  ipo  is_acquired  is_closed  age_years  \\\n",
       "0                      3.8      1.0    0            0          0       6.26   \n",
       "1                      0.0      3.0    0            0          0       3.25   \n",
       "2                      1.0      1.0    0            0          0       3.00   \n",
       "3                      0.0      1.0    0            0          0       6.15   \n",
       "4                      1.0      1.0    0            0          0       5.00   \n",
       "...                    ...      ...  ...          ...        ...        ...   \n",
       "7505                   6.0      1.0    0            0          0       3.00   \n",
       "7506                   0.0      1.0    0            0          0       6.30   \n",
       "7507                   0.0      1.0    0            0          1       5.62   \n",
       "7508                   0.0      1.0    0            0          0       6.17   \n",
       "7509                   0.0      1.0    0            0          0       6.34   \n",
       "\n",
       "      status  log_average_funded  \n",
       "0          0           16.426597  \n",
       "1          0           11.512925  \n",
       "2          0           10.596635  \n",
       "3          0           12.765688  \n",
       "4          0           13.234838  \n",
       "...      ...                 ...  \n",
       "7505       0           13.527828  \n",
       "7506       0           13.590714  \n",
       "7507       0           11.775290  \n",
       "7508       0           13.527828  \n",
       "7509       0           13.071070  \n",
       "\n",
       "[7510 rows x 13 columns]"
      ]
     },
     "execution_count": 5,
     "metadata": {},
     "output_type": "execute_result"
    }
   ],
   "source": [
    "raw_data = pd.read_csv(r'C:\\Users\\user\\Downloads\\cleaned_startup_data.xls')\n",
    "raw_data"
   ]
  },
  {
   "cell_type": "code",
   "execution_count": 6,
   "id": "222a2b1f-7c00-49ad-832d-c013b9740065",
   "metadata": {},
   "outputs": [],
   "source": [
    "#drop offices and is_acquired \n",
    "columns_to_drop = ['offices', 'is_acquired']"
   ]
  },
  {
   "cell_type": "code",
   "execution_count": 7,
   "id": "ed777f16-9838-4b90-9b7c-5db44b5099bc",
   "metadata": {},
   "outputs": [
    {
     "data": {
      "text/html": [
       "<div>\n",
       "<style scoped>\n",
       "    .dataframe tbody tr th:only-of-type {\n",
       "        vertical-align: middle;\n",
       "    }\n",
       "\n",
       "    .dataframe tbody tr th {\n",
       "        vertical-align: top;\n",
       "    }\n",
       "\n",
       "    .dataframe thead th {\n",
       "        text-align: right;\n",
       "    }\n",
       "</style>\n",
       "<table border=\"1\" class=\"dataframe\">\n",
       "  <thead>\n",
       "    <tr style=\"text-align: right;\">\n",
       "      <th></th>\n",
       "      <th>company_id</th>\n",
       "      <th>category_code</th>\n",
       "      <th>country_code</th>\n",
       "      <th>state_code</th>\n",
       "      <th>total_rounds</th>\n",
       "      <th>average_participants</th>\n",
       "      <th>ipo</th>\n",
       "      <th>is_closed</th>\n",
       "      <th>age_years</th>\n",
       "      <th>status</th>\n",
       "      <th>log_average_funded</th>\n",
       "    </tr>\n",
       "  </thead>\n",
       "  <tbody>\n",
       "    <tr>\n",
       "      <th>0</th>\n",
       "      <td>c:10015</td>\n",
       "      <td>health</td>\n",
       "      <td>USA</td>\n",
       "      <td>California</td>\n",
       "      <td>5</td>\n",
       "      <td>3.8</td>\n",
       "      <td>0</td>\n",
       "      <td>0</td>\n",
       "      <td>6.26</td>\n",
       "      <td>0</td>\n",
       "      <td>16.426597</td>\n",
       "    </tr>\n",
       "    <tr>\n",
       "      <th>1</th>\n",
       "      <td>c:100228</td>\n",
       "      <td>education</td>\n",
       "      <td>USA</td>\n",
       "      <td>other</td>\n",
       "      <td>1</td>\n",
       "      <td>0.0</td>\n",
       "      <td>0</td>\n",
       "      <td>0</td>\n",
       "      <td>3.25</td>\n",
       "      <td>0</td>\n",
       "      <td>11.512925</td>\n",
       "    </tr>\n",
       "    <tr>\n",
       "      <th>2</th>\n",
       "      <td>c:100607</td>\n",
       "      <td>games_video</td>\n",
       "      <td>USA</td>\n",
       "      <td>California</td>\n",
       "      <td>1</td>\n",
       "      <td>1.0</td>\n",
       "      <td>0</td>\n",
       "      <td>0</td>\n",
       "      <td>3.00</td>\n",
       "      <td>0</td>\n",
       "      <td>10.596635</td>\n",
       "    </tr>\n",
       "    <tr>\n",
       "      <th>3</th>\n",
       "      <td>c:10075</td>\n",
       "      <td>web</td>\n",
       "      <td>USA</td>\n",
       "      <td>California</td>\n",
       "      <td>1</td>\n",
       "      <td>0.0</td>\n",
       "      <td>0</td>\n",
       "      <td>0</td>\n",
       "      <td>6.15</td>\n",
       "      <td>0</td>\n",
       "      <td>12.765688</td>\n",
       "    </tr>\n",
       "    <tr>\n",
       "      <th>4</th>\n",
       "      <td>c:100756</td>\n",
       "      <td>education</td>\n",
       "      <td>other</td>\n",
       "      <td>other</td>\n",
       "      <td>1</td>\n",
       "      <td>1.0</td>\n",
       "      <td>0</td>\n",
       "      <td>0</td>\n",
       "      <td>5.00</td>\n",
       "      <td>0</td>\n",
       "      <td>13.234838</td>\n",
       "    </tr>\n",
       "    <tr>\n",
       "      <th>...</th>\n",
       "      <td>...</td>\n",
       "      <td>...</td>\n",
       "      <td>...</td>\n",
       "      <td>...</td>\n",
       "      <td>...</td>\n",
       "      <td>...</td>\n",
       "      <td>...</td>\n",
       "      <td>...</td>\n",
       "      <td>...</td>\n",
       "      <td>...</td>\n",
       "      <td>...</td>\n",
       "    </tr>\n",
       "    <tr>\n",
       "      <th>7505</th>\n",
       "      <td>c:99669</td>\n",
       "      <td>enterprise</td>\n",
       "      <td>USA</td>\n",
       "      <td>other</td>\n",
       "      <td>1</td>\n",
       "      <td>6.0</td>\n",
       "      <td>0</td>\n",
       "      <td>0</td>\n",
       "      <td>3.00</td>\n",
       "      <td>0</td>\n",
       "      <td>13.527828</td>\n",
       "    </tr>\n",
       "    <tr>\n",
       "      <th>7506</th>\n",
       "      <td>c:9975</td>\n",
       "      <td>web</td>\n",
       "      <td>other</td>\n",
       "      <td>other</td>\n",
       "      <td>1</td>\n",
       "      <td>0.0</td>\n",
       "      <td>0</td>\n",
       "      <td>0</td>\n",
       "      <td>6.30</td>\n",
       "      <td>0</td>\n",
       "      <td>13.590714</td>\n",
       "    </tr>\n",
       "    <tr>\n",
       "      <th>7507</th>\n",
       "      <td>c:9977</td>\n",
       "      <td>mobile</td>\n",
       "      <td>USA</td>\n",
       "      <td>California</td>\n",
       "      <td>1</td>\n",
       "      <td>0.0</td>\n",
       "      <td>0</td>\n",
       "      <td>1</td>\n",
       "      <td>5.62</td>\n",
       "      <td>0</td>\n",
       "      <td>11.775290</td>\n",
       "    </tr>\n",
       "    <tr>\n",
       "      <th>7508</th>\n",
       "      <td>c:9995</td>\n",
       "      <td>public_relations</td>\n",
       "      <td>USA</td>\n",
       "      <td>California</td>\n",
       "      <td>1</td>\n",
       "      <td>0.0</td>\n",
       "      <td>0</td>\n",
       "      <td>0</td>\n",
       "      <td>6.17</td>\n",
       "      <td>0</td>\n",
       "      <td>13.527828</td>\n",
       "    </tr>\n",
       "    <tr>\n",
       "      <th>7509</th>\n",
       "      <td>c:9998</td>\n",
       "      <td>ecommerce</td>\n",
       "      <td>USA</td>\n",
       "      <td>California</td>\n",
       "      <td>1</td>\n",
       "      <td>0.0</td>\n",
       "      <td>0</td>\n",
       "      <td>0</td>\n",
       "      <td>6.34</td>\n",
       "      <td>0</td>\n",
       "      <td>13.071070</td>\n",
       "    </tr>\n",
       "  </tbody>\n",
       "</table>\n",
       "<p>7510 rows × 11 columns</p>\n",
       "</div>"
      ],
      "text/plain": [
       "     company_id     category_code country_code  state_code  total_rounds  \\\n",
       "0       c:10015            health          USA  California             5   \n",
       "1      c:100228         education          USA       other             1   \n",
       "2      c:100607       games_video          USA  California             1   \n",
       "3       c:10075               web          USA  California             1   \n",
       "4      c:100756         education        other       other             1   \n",
       "...         ...               ...          ...         ...           ...   \n",
       "7505    c:99669        enterprise          USA       other             1   \n",
       "7506     c:9975               web        other       other             1   \n",
       "7507     c:9977            mobile          USA  California             1   \n",
       "7508     c:9995  public_relations          USA  California             1   \n",
       "7509     c:9998         ecommerce          USA  California             1   \n",
       "\n",
       "      average_participants  ipo  is_closed  age_years  status  \\\n",
       "0                      3.8    0          0       6.26       0   \n",
       "1                      0.0    0          0       3.25       0   \n",
       "2                      1.0    0          0       3.00       0   \n",
       "3                      0.0    0          0       6.15       0   \n",
       "4                      1.0    0          0       5.00       0   \n",
       "...                    ...  ...        ...        ...     ...   \n",
       "7505                   6.0    0          0       3.00       0   \n",
       "7506                   0.0    0          0       6.30       0   \n",
       "7507                   0.0    0          1       5.62       0   \n",
       "7508                   0.0    0          0       6.17       0   \n",
       "7509                   0.0    0          0       6.34       0   \n",
       "\n",
       "      log_average_funded  \n",
       "0              16.426597  \n",
       "1              11.512925  \n",
       "2              10.596635  \n",
       "3              12.765688  \n",
       "4              13.234838  \n",
       "...                  ...  \n",
       "7505           13.527828  \n",
       "7506           13.590714  \n",
       "7507           11.775290  \n",
       "7508           13.527828  \n",
       "7509           13.071070  \n",
       "\n",
       "[7510 rows x 11 columns]"
      ]
     },
     "execution_count": 7,
     "metadata": {},
     "output_type": "execute_result"
    }
   ],
   "source": [
    "data = raw_data.drop(columns=columns_to_drop)\n",
    "data"
   ]
  },
  {
   "cell_type": "markdown",
   "id": "343b3023-b443-4049-a01e-0c506339a3c8",
   "metadata": {},
   "source": [
    "**Declare the features and target**"
   ]
  },
  {
   "cell_type": "code",
   "execution_count": 9,
   "id": "cec40d46-cf20-4624-ae9a-a2c901203151",
   "metadata": {},
   "outputs": [],
   "source": [
    "#declare the features and target\n",
    "target = data['status']\n",
    "features = data[['total_rounds', 'average_participants', 'ipo', 'is_closed', 'age_years', 'log_average_funded']]"
   ]
  },
  {
   "cell_type": "markdown",
   "id": "ce9620c3-3627-4f00-a72b-e87ac92b6f6d",
   "metadata": {},
   "source": [
    "**Split data into test and training**"
   ]
  },
  {
   "cell_type": "code",
   "execution_count": 11,
   "id": "3330dee3-a856-47dc-b440-423f3308c289",
   "metadata": {},
   "outputs": [],
   "source": [
    "x_train, x_test, y_train, y_test = train_test_split(features, target, test_size=0.2, stratify=target, random_state=42)"
   ]
  },
  {
   "cell_type": "markdown",
   "id": "1eb84e40-a8f9-4147-9f95-2386bfa91ace",
   "metadata": {},
   "source": [
    "**Create the SMOTE object**"
   ]
  },
  {
   "cell_type": "code",
   "execution_count": 13,
   "id": "5a1aee30-baaa-4493-b00d-88ca43ff66aa",
   "metadata": {},
   "outputs": [],
   "source": [
    "smote = SMOTE(random_state=42)"
   ]
  },
  {
   "cell_type": "code",
   "execution_count": 14,
   "id": "a9c9dade-0fd9-45e5-b06d-4ee12b824454",
   "metadata": {},
   "outputs": [],
   "source": [
    "# Apply SMOTE to the training features and labels\n",
    "x_train_sm, y_train_sm = smote.fit_resample(x_train, y_train)"
   ]
  },
  {
   "cell_type": "markdown",
   "id": "e272ea78-9514-46da-b7e1-c5d7d8604cf2",
   "metadata": {},
   "source": [
    "**Create the Random Forest**"
   ]
  },
  {
   "cell_type": "code",
   "execution_count": 26,
   "id": "c170c210-5645-43eb-88ce-fb9df46caf3d",
   "metadata": {},
   "outputs": [],
   "source": [
    "#initialize with a basic configuration\n",
    "rf_model = RandomForestClassifier(random_state=42)"
   ]
  },
  {
   "cell_type": "code",
   "execution_count": 28,
   "id": "4aa28c2b-9f76-4add-bcf6-d10251152e3a",
   "metadata": {},
   "outputs": [
    {
     "data": {
      "text/html": [
       "<style>#sk-container-id-1 {color: black;}#sk-container-id-1 pre{padding: 0;}#sk-container-id-1 div.sk-toggleable {background-color: white;}#sk-container-id-1 label.sk-toggleable__label {cursor: pointer;display: block;width: 100%;margin-bottom: 0;padding: 0.3em;box-sizing: border-box;text-align: center;}#sk-container-id-1 label.sk-toggleable__label-arrow:before {content: \"▸\";float: left;margin-right: 0.25em;color: #696969;}#sk-container-id-1 label.sk-toggleable__label-arrow:hover:before {color: black;}#sk-container-id-1 div.sk-estimator:hover label.sk-toggleable__label-arrow:before {color: black;}#sk-container-id-1 div.sk-toggleable__content {max-height: 0;max-width: 0;overflow: hidden;text-align: left;background-color: #f0f8ff;}#sk-container-id-1 div.sk-toggleable__content pre {margin: 0.2em;color: black;border-radius: 0.25em;background-color: #f0f8ff;}#sk-container-id-1 input.sk-toggleable__control:checked~div.sk-toggleable__content {max-height: 200px;max-width: 100%;overflow: auto;}#sk-container-id-1 input.sk-toggleable__control:checked~label.sk-toggleable__label-arrow:before {content: \"▾\";}#sk-container-id-1 div.sk-estimator input.sk-toggleable__control:checked~label.sk-toggleable__label {background-color: #d4ebff;}#sk-container-id-1 div.sk-label input.sk-toggleable__control:checked~label.sk-toggleable__label {background-color: #d4ebff;}#sk-container-id-1 input.sk-hidden--visually {border: 0;clip: rect(1px 1px 1px 1px);clip: rect(1px, 1px, 1px, 1px);height: 1px;margin: -1px;overflow: hidden;padding: 0;position: absolute;width: 1px;}#sk-container-id-1 div.sk-estimator {font-family: monospace;background-color: #f0f8ff;border: 1px dotted black;border-radius: 0.25em;box-sizing: border-box;margin-bottom: 0.5em;}#sk-container-id-1 div.sk-estimator:hover {background-color: #d4ebff;}#sk-container-id-1 div.sk-parallel-item::after {content: \"\";width: 100%;border-bottom: 1px solid gray;flex-grow: 1;}#sk-container-id-1 div.sk-label:hover label.sk-toggleable__label {background-color: #d4ebff;}#sk-container-id-1 div.sk-serial::before {content: \"\";position: absolute;border-left: 1px solid gray;box-sizing: border-box;top: 0;bottom: 0;left: 50%;z-index: 0;}#sk-container-id-1 div.sk-serial {display: flex;flex-direction: column;align-items: center;background-color: white;padding-right: 0.2em;padding-left: 0.2em;position: relative;}#sk-container-id-1 div.sk-item {position: relative;z-index: 1;}#sk-container-id-1 div.sk-parallel {display: flex;align-items: stretch;justify-content: center;background-color: white;position: relative;}#sk-container-id-1 div.sk-item::before, #sk-container-id-1 div.sk-parallel-item::before {content: \"\";position: absolute;border-left: 1px solid gray;box-sizing: border-box;top: 0;bottom: 0;left: 50%;z-index: -1;}#sk-container-id-1 div.sk-parallel-item {display: flex;flex-direction: column;z-index: 1;position: relative;background-color: white;}#sk-container-id-1 div.sk-parallel-item:first-child::after {align-self: flex-end;width: 50%;}#sk-container-id-1 div.sk-parallel-item:last-child::after {align-self: flex-start;width: 50%;}#sk-container-id-1 div.sk-parallel-item:only-child::after {width: 0;}#sk-container-id-1 div.sk-dashed-wrapped {border: 1px dashed gray;margin: 0 0.4em 0.5em 0.4em;box-sizing: border-box;padding-bottom: 0.4em;background-color: white;}#sk-container-id-1 div.sk-label label {font-family: monospace;font-weight: bold;display: inline-block;line-height: 1.2em;}#sk-container-id-1 div.sk-label-container {text-align: center;}#sk-container-id-1 div.sk-container {/* jupyter's `normalize.less` sets `[hidden] { display: none; }` but bootstrap.min.css set `[hidden] { display: none !important; }` so we also need the `!important` here to be able to override the default hidden behavior on the sphinx rendered scikit-learn.org. See: https://github.com/scikit-learn/scikit-learn/issues/21755 */display: inline-block !important;position: relative;}#sk-container-id-1 div.sk-text-repr-fallback {display: none;}</style><div id=\"sk-container-id-1\" class=\"sk-top-container\"><div class=\"sk-text-repr-fallback\"><pre>RandomForestClassifier(random_state=42)</pre><b>In a Jupyter environment, please rerun this cell to show the HTML representation or trust the notebook. <br />On GitHub, the HTML representation is unable to render, please try loading this page with nbviewer.org.</b></div><div class=\"sk-container\" hidden><div class=\"sk-item\"><div class=\"sk-estimator sk-toggleable\"><input class=\"sk-toggleable__control sk-hidden--visually\" id=\"sk-estimator-id-1\" type=\"checkbox\" checked><label for=\"sk-estimator-id-1\" class=\"sk-toggleable__label sk-toggleable__label-arrow\">RandomForestClassifier</label><div class=\"sk-toggleable__content\"><pre>RandomForestClassifier(random_state=42)</pre></div></div></div></div></div>"
      ],
      "text/plain": [
       "RandomForestClassifier(random_state=42)"
      ]
     },
     "execution_count": 28,
     "metadata": {},
     "output_type": "execute_result"
    }
   ],
   "source": [
    "#fit the model to the training data\n",
    "rf_model.fit(x_train_sm, y_train_sm)"
   ]
  },
  {
   "cell_type": "markdown",
   "id": "dadab8a3-cb51-4581-be70-d57d7057dca7",
   "metadata": {},
   "source": [
    "**Make prediction on the test set**"
   ]
  },
  {
   "cell_type": "code",
   "execution_count": 31,
   "id": "b577f0f3-6dc7-4629-bcc3-9e5e1b2d4620",
   "metadata": {},
   "outputs": [],
   "source": [
    "y_pred_rf = rf_model.predict(x_test)"
   ]
  },
  {
   "cell_type": "markdown",
   "id": "6469c718-f582-46c2-863b-2898bb73bf3f",
   "metadata": {},
   "source": [
    "**Confusion Matrix**"
   ]
  },
  {
   "cell_type": "code",
   "execution_count": 36,
   "id": "34a3b387-61d3-413b-a1b5-74a1f107dab4",
   "metadata": {},
   "outputs": [
    {
     "name": "stdout",
     "output_type": "stream",
     "text": [
      "Confusion Matrix - Random Forest\n",
      "[[1244  127]\n",
      " [  61   70]]\n"
     ]
    }
   ],
   "source": [
    "# Confusion matrix\n",
    "cm = confusion_matrix(y_test, y_pred_rf)\n",
    "print(\"Confusion Matrix - Random Forest\")\n",
    "print(cm)"
   ]
  },
  {
   "cell_type": "code",
   "execution_count": 40,
   "id": "2d9ce2d2-787f-4a12-940d-855cfb8425ac",
   "metadata": {},
   "outputs": [
    {
     "data": {
      "image/png": "[encoded data removed]",
      "text/plain": [
       "<Figure size 640x480 with 2 Axes>"
      ]
     },
     "metadata": {},
     "output_type": "display_data"
    }
   ],
   "source": [
    "sns.heatmap(cm, annot=True, fmt='d', cmap='Blues', xticklabels=['Pred 0', 'Pred 1'], yticklabels=['Actual 0', 'Actual 1'])\n",
    "plt.xlabel('Predicted')\n",
    "plt.ylabel('Actual')\n",
    "plt.title('Confusion Matrix - Random Forest')\n",
    "plt.show()"
   ]
  },
  {
   "cell_type": "markdown",
   "id": "2c7f5562-2cc7-4b23-967f-ea69e925986c",
   "metadata": {},
   "source": [
    "**Model accuracy in percentage**"
   ]
  },
  {
   "cell_type": "code",
   "execution_count": 44,
   "id": "fad93b90-8a7c-41c3-9537-08f599cd2efc",
   "metadata": {},
   "outputs": [
    {
     "data": {
      "text/plain": [
       "0.8748335552596538"
      ]
     },
     "execution_count": 44,
     "metadata": {},
     "output_type": "execute_result"
    }
   ],
   "source": [
    "cm1 = np.array(cm)\n",
    "accuracy_train = (cm[0,0]+cm[1,1])/cm.sum()\n",
    "accuracy_train"
   ]
  },
  {
   "cell_type": "markdown",
   "id": "fd259436-c44b-4678-9826-568645b10f88",
   "metadata": {},
   "source": [
    "**Classification Report**"
   ]
  },
  {
   "cell_type": "code",
   "execution_count": 46,
   "id": "e08306e3-7710-4894-9838-c253b465c006",
   "metadata": {},
   "outputs": [
    {
     "data": {
      "text/html": [
       "<div>\n",
       "<style scoped>\n",
       "    .dataframe tbody tr th:only-of-type {\n",
       "        vertical-align: middle;\n",
       "    }\n",
       "\n",
       "    .dataframe tbody tr th {\n",
       "        vertical-align: top;\n",
       "    }\n",
       "\n",
       "    .dataframe thead th {\n",
       "        text-align: right;\n",
       "    }\n",
       "</style>\n",
       "<table border=\"1\" class=\"dataframe\">\n",
       "  <thead>\n",
       "    <tr style=\"text-align: right;\">\n",
       "      <th></th>\n",
       "      <th>precision</th>\n",
       "      <th>recall</th>\n",
       "      <th>f1-score</th>\n",
       "      <th>support</th>\n",
       "    </tr>\n",
       "  </thead>\n",
       "  <tbody>\n",
       "    <tr>\n",
       "      <th>failure</th>\n",
       "      <td>0.953</td>\n",
       "      <td>0.907</td>\n",
       "      <td>0.930</td>\n",
       "      <td>1371.000</td>\n",
       "    </tr>\n",
       "    <tr>\n",
       "      <th>success</th>\n",
       "      <td>0.355</td>\n",
       "      <td>0.534</td>\n",
       "      <td>0.427</td>\n",
       "      <td>131.000</td>\n",
       "    </tr>\n",
       "    <tr>\n",
       "      <th>accuracy</th>\n",
       "      <td>0.875</td>\n",
       "      <td>0.875</td>\n",
       "      <td>0.875</td>\n",
       "      <td>0.875</td>\n",
       "    </tr>\n",
       "    <tr>\n",
       "      <th>macro avg</th>\n",
       "      <td>0.654</td>\n",
       "      <td>0.721</td>\n",
       "      <td>0.678</td>\n",
       "      <td>1502.000</td>\n",
       "    </tr>\n",
       "    <tr>\n",
       "      <th>weighted avg</th>\n",
       "      <td>0.901</td>\n",
       "      <td>0.875</td>\n",
       "      <td>0.886</td>\n",
       "      <td>1502.000</td>\n",
       "    </tr>\n",
       "  </tbody>\n",
       "</table>\n",
       "</div>"
      ],
      "text/plain": [
       "              precision  recall  f1-score   support\n",
       "failure           0.953   0.907     0.930  1371.000\n",
       "success           0.355   0.534     0.427   131.000\n",
       "accuracy          0.875   0.875     0.875     0.875\n",
       "macro avg         0.654   0.721     0.678  1502.000\n",
       "weighted avg      0.901   0.875     0.886  1502.000"
      ]
     },
     "execution_count": 46,
     "metadata": {},
     "output_type": "execute_result"
    }
   ],
   "source": [
    "# Generate the report as a dictionary\n",
    "report_dict = classification_report(y_test, y_pred_rf, output_dict=True, target_names=['failure', 'success'])\n",
    "\n",
    "# Convert to a DataFrame\n",
    "report_df = pd.DataFrame(report_dict).transpose()\n",
    "\n",
    "# Round for cleaner display\n",
    "report_df = report_df.round(3)\n",
    "\n",
    "# Show the table\n",
    "report_df"
   ]
  },
  {
   "cell_type": "markdown",
   "id": "bb3a37d2-735f-4354-b7e9-8b011e82a47e",
   "metadata": {},
   "source": [
    "**Create a Feature Importance Chart**"
   ]
  },
  {
   "cell_type": "code",
   "execution_count": 49,
   "id": "579f7c80-7e00-405c-a616-c7a44d40956d",
   "metadata": {},
   "outputs": [],
   "source": [
    "feature_names = ['total_rounds', 'average_participants', 'ipo', 'is_closed', 'age_years', 'log_average_funded']"
   ]
  },
  {
   "cell_type": "code",
   "execution_count": 51,
   "id": "2fe7abbe-382d-4daf-9c06-e2f4265e296c",
   "metadata": {},
   "outputs": [],
   "source": [
    "#simulate the random forest classifier\n",
    "np.random.seed(0)\n",
    "rf_model.feature_importances = np.random.rand(len(feature_names))"
   ]
  },
  {
   "cell_type": "code",
   "execution_count": 53,
   "id": "8da108cf-24b4-48db-b259-1b90c9007147",
   "metadata": {},
   "outputs": [],
   "source": [
    "#create the dataframe for plotting\n",
    "importance_df = pd.DataFrame({\n",
    "    'Feature': feature_names,\n",
    "    'Importance': rf_model.feature_importances\n",
    "}).sort_values(by='Importance', ascending=False)"
   ]
  },
  {
   "cell_type": "code",
   "execution_count": 61,
   "id": "ec333add-326b-4ba3-aaf6-a7f074466c97",
   "metadata": {
    "scrolled": true
   },
   "outputs": [
    {
     "data": {
      "image/png": "[encoded data removed]",
      "text/plain": [
       "<Figure size 1000x600 with 1 Axes>"
      ]
     },
     "metadata": {},
     "output_type": "display_data"
    }
   ],
   "source": [
    "#create the plot\n",
    "plt.figure(figsize=(10, 6))\n",
    "sns.barplot(data=importance_df, x='Importance', y='Feature', palette='rainbow')\n",
    "plt.title('Random Forest Feature Importance', fontsize=16)\n",
    "plt.xlabel('Importance Score')\n",
    "plt.ylabel('Feature')\n",
    "plt.savefig('feature_importance.png', dpi=300, bbox_inches='tight')\n",
    "plt.show()"
   ]
  },
  {
   "cell_type": "code",
   "execution_count": null,
   "id": "da9732c5-7391-44ab-9db3-da8b0a3da3b2",
   "metadata": {},
   "outputs": [],
   "source": []
  }
 ],
 "metadata": {
  "kernelspec": {
   "display_name": "Python [conda env:udemycourse]",
   "language": "python",
   "name": "conda-env-udemycourse-py"
  },
  "language_info": {
   "codemirror_mode": {
    "name": "ipython",
    "version": 3
   },
   "file_extension": ".py",
   "mimetype": "text/x-python",
   "name": "python",
   "nbconvert_exporter": "python",
   "pygments_lexer": "ipython3",
   "version": "3.8.20"
  }
 },
 "nbformat": 4,
 "nbformat_minor": 5
}
